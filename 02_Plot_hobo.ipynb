{
 "cells": [
  {
   "cell_type": "code",
   "execution_count": 1,
   "id": "4a8d15d4-00e9-4ec1-b268-29a7b70e77d0",
   "metadata": {},
   "outputs": [],
   "source": [
    "import pandas as pd\n",
    "import glob\n",
    "import numpy as np\n",
    "import matplotlib.pyplot as plt\n",
    "from matplotlib import cm\n",
    "from datetime import datetime\n",
    "from matplotlib.ticker import LinearLocator\n",
    "import matplotlib.dates as mdates"
   ]
  },
  {
   "cell_type": "code",
   "execution_count": 2,
   "id": "f6f32ad4-a46f-45a9-a0a5-9eb6cd68a721",
   "metadata": {},
   "outputs": [],
   "source": [
    "place = 'Taoyuan'\n",
    "path = f'../DataBase/Temperature/{place}'\n",
    "read_col = ['Time', 'Temp', 'Light']"
   ]
  },
  {
   "cell_type": "code",
   "execution_count": 4,
   "id": "8a3128f0-ab99-4b81-bd14-fb6841509b74",
   "metadata": {},
   "outputs": [
    {
     "data": {
      "text/plain": [
       "['../DataBase/Temperature/Taoyuan/220422-220512.xlsx',\n",
       " '../DataBase/Temperature/Taoyuan/220627-220722.xlsx',\n",
       " '../DataBase/Temperature/Taoyuan/220808-220824.xlsx',\n",
       " '../DataBase/Temperature/Taoyuan/230414-230504.xlsx',\n",
       " '../DataBase/Temperature/Taoyuan/230608-230626.xlsx',\n",
       " '../DataBase/Temperature/Taoyuan/230818-230915.xlsx',\n",
       " '../DataBase/Temperature/Taoyuan/231208-231226.xlsx']"
      ]
     },
     "execution_count": 4,
     "metadata": {},
     "output_type": "execute_result"
    }
   ],
   "source": [
    "sorted(glob.glob(f'{path}/*xlsx'))"
   ]
  },
  {
   "cell_type": "code",
   "execution_count": 19,
   "id": "bf81dc7b-db3c-48c1-9b29-4d7daffbf73d",
   "metadata": {},
   "outputs": [
    {
     "data": {
      "image/png": "[encoded data removed]",
      "text/plain": [
       "<Figure size 800x100 with 1 Axes>"
      ]
     },
     "metadata": {},
     "output_type": "display_data"
    }
   ],
   "source": [
    "fig, ax = plt.subplots(1,1, figsize=(8,1), sharex=True)\n",
    "plt.rcParams[\"font.family\"] = \"Times New Roman\"\n",
    "for filepath in sorted(glob.glob(f'{path}/*xlsx'))[-1:]:\n",
    "    filename = filepath.rsplit('/')[-1]\n",
    "    year = 2022 if filename[:2] == '22' else 2023\n",
    "    \n",
    "\n",
    "    df = pd.read_excel(filepath, header=None, names=read_col, skiprows=1) \n",
    "    begintime = pd.to_datetime(str(df['Time'].values[0]))\n",
    "    endtime   = pd.to_datetime(str(df['Time'].values[-1]))\n",
    "\n",
    "    \n",
    "    ax[0].plot(df['Time'], df['Temp'], 'k')\n",
    "    ax[0].set_xlim(datetime(begintime.year,begintime.month,begintime.day,begintime.hour-1,0), datetime(2023,12,26,12,0,0))\n",
    "    # ax[0].set_xlim(datetime(begintime.year,begintime.month,begintime.day,begintime.hour-1,0), datetime(endtime.year,endtime.month,endtime.day,endtime.hour+1))\n",
    "    ax[0].set_ylim(min(df['Temp'])-1, 31)#np.mean(df['Temp'])+6)\n",
    "    ax[0].set_ylabel('Temperature (°C)', fontsize=10)\n",
    "    ax[0].xaxis.set_major_locator(mdates.DayLocator(interval=2))   #to get a tick every 15 minutes\n",
    "    ax[0].xaxis.set_major_formatter(mdates.DateFormatter('%m/%d'))     #optional formatting \n",
    "    ax[0].xaxis.set_minor_locator(mdates.HourLocator(interval=6))   #to get a tick every 15 minutes\n",
    "    \n",
    "\n",
    "    ax[1].plot(df['Time'], df['Light'], 'k')\n",
    "    # ax[1].set_xlim(datetime(begintime.year,begintime.month,begintime.day,begintime.hour-1,0), datetime(endtime.year,endtime.month,endtime.day,endtime.hour+1))  \n",
    "    ax[1].set_ylim(0, np.mean(df['Light'])*30) # 27 \n",
    "    ax[1].set_ylabel('Illumination (lux)', fontsize=10)\n",
    "    ax[1].xaxis.set_major_locator(mdates.DayLocator(interval=2))   #to get a tick every 15 minutes\n",
    "    ax[1].xaxis.set_major_formatter(mdates.DateFormatter('%m/%d'))     #optional formatting \n",
    "    ax[1].xaxis.set_minor_locator(mdates.HourLocator(interval=6))   #to get a tick every 15 minutes  \n",
    "    \n",
    "    plt.suptitle(f'{place} {year}', fontsize=14)\n",
    "    # plt.savefig(f'../Results/hobo/{place}_hobo_{filename.rsplit(\".\")[0]}.png', dpi=150)\n",
    "    # plt.savefig(f'../Results/hobo/{place}_hobo_{filename.rsplit(\".\")[0]}.pdf', dpi=150)"
   ]
  },
  {
   "cell_type": "code",
   "execution_count": null,
   "id": "746d1ef8-ef57-46b7-9c01-1b807c0639c0",
   "metadata": {},
   "outputs": [],
   "source": []
  }
 ],
 "metadata": {
  "kernelspec": {
   "display_name": "Python 3 (ipykernel)",
   "language": "python",
   "name": "python3"
  },
  "language_info": {
   "codemirror_mode": {
    "name": "ipython",
    "version": 3
   },
   "file_extension": ".py",
   "mimetype": "text/x-python",
   "name": "python",
   "nbconvert_exporter": "python",
   "pygments_lexer": "ipython3",
   "version": "3.11.3"
  }
 },
 "nbformat": 4,
 "nbformat_minor": 5
}
