{
 "cells": [
  {
   "cell_type": "code",
   "execution_count": 95,
   "id": "73e2fbca-69b9-4ffb-85d9-2c44ef8db542",
   "metadata": {
    "tags": []
   },
   "outputs": [],
   "source": [
    "import numpy as np \n",
    "import pandas as pd\n",
    "import pickle, glob, os\n",
    "import matplotlib.pyplot as plt\n",
    "import matplotlib.cm as cm\n",
    "from datetime import datetime, timedelta\n",
    "from collections import defaultdict\n",
    "from matplotlib.ticker import (MultipleLocator, AutoMinorLocator)\n",
    "import matplotlib.dates as mdates\n",
    "import warnings\n",
    "\n",
    "warnings.filterwarnings(\"ignore\")"
   ]
  },
  {
   "cell_type": "code",
   "execution_count": 96,
   "id": "a178e372-7ca3-4c3a-b8c0-aa93d25ae869",
   "metadata": {
    "tags": []
   },
   "outputs": [
    {
     "name": "stdout",
     "output_type": "stream",
     "text": [
      "../Results/soundsepration/Keelung-5min/20240125_160851_2023_4stage_separation/Keelung_S1_cluster_nostd.csv\n"
     ]
    }
   ],
   "source": [
    "place = 'Keelung'\n",
    "year = 2023\n",
    "\n",
    "stages= 4 if year == 2023 else 3\n",
    "file = glob.glob(f'../Results/soundsepration/{place}-5min/*_{year}*{stages}stage_separation/{place}_S1_cluster_nostd.csv')[0]\n",
    "print(file)\n",
    "savepath = file.rsplit('/', 1)[0]\n",
    "df = pd.read_csv(file)\n",
    "\n",
    "df_datetime = pd.DataFrame({'Datetime': [datetime.fromtimestamp(t) for t in df['Time'] ]} )\n",
    "df = pd.concat([df,df_datetime], axis=1)\n",
    "# df = df[~df['S1_Cluster'].isna()]"
   ]
  },
  {
   "cell_type": "code",
   "execution_count": 97,
   "id": "ea54ab4d-bfd5-4075-895a-fcfeb96ca6de",
   "metadata": {
    "tags": []
   },
   "outputs": [
    {
     "name": "stdout",
     "output_type": "stream",
     "text": [
      "7\n"
     ]
    }
   ],
   "source": [
    "df_ = df.filter(regex='Cluster')\n",
    "# S1_total, S3_total = [np.max(df_[key]) for key in df_.keys() ]\n",
    "S1_total = [np.max(df_[key]) for key in df_.keys() ][0]\n",
    "total_cluster = int(sum([ np.max(df_[key]) for key in df_.keys() ]))\n",
    "# print(S1_total, S3_total)\n",
    "print(total_cluster)"
   ]
  },
  {
   "cell_type": "code",
   "execution_count": 98,
   "id": "31aee13a-7675-4439-8ddc-945a689ee44f",
   "metadata": {
    "tags": []
   },
   "outputs": [],
   "source": [
    "datelist = []\n",
    "\n",
    "spec = defaultdict(list)\n",
    "# spec = {'S1_1':[],\n",
    "#        'S1_2': [],\n",
    "#        'S1_3': [],\n",
    "#        'S1_4': [],\n",
    "#        'S3_1': [],\n",
    "#        'S3_2': [],\n",
    "#        'S3_3': []}\n",
    "\n",
    "month = df['Datetime'][0].month\n",
    "day = df['Datetime'][0].day\n",
    "datezero = datetime(year, month, day, 0, 0, 0)\n",
    "date = datetime(year, month, day, 23, 59, 0)\n",
    "\n",
    "for dd in range(280):\n",
    "    for hh in [23]:\n",
    "        df_temp = df[df['Datetime'] < datetime(year, date.month, date.day, hh, 59, 0)][df['Datetime'] >= datetime(year, date.month, date.day, 0, 0, 0)]\n",
    "\n",
    "        if len(df_temp[~df_temp['S1_Cluster'].isna()]) != 0: \n",
    "\n",
    "            df_temp_s1 = df_temp['S1_Cluster']\n",
    "            # df_temp_s3 = df_temp['S3_Cluster']\n",
    "\n",
    "            df_temp_c1 = set(df_temp_s1)\n",
    "            # df_temp_c3 = set(df_temp_s3)\n",
    "\n",
    "            for cc in range(1, int(S1_total)+1):\n",
    "                spec[f'S1_{cc}'].append(df_temp_s1.to_list().count(cc)) \n",
    "            # for cc in range(1, int(S3_total)+1):\n",
    "                # spec[f'S3_{cc}'].append(df_temp_s3.to_list().count(cc))     \n",
    "        else:\n",
    "            for cc in range(1, int(S1_total)+1):\n",
    "                spec[f'S1_{cc}'].append(np.nan)\n",
    "            # for cc in range(1, int(S3_total)+1):\n",
    "                # spec[f'S3_{cc}'].append(np.nan)\n",
    "        datelist.append(datetime(year, date.month, date.day, hh))\n",
    "    date = date + timedelta(days = 1) \n",
    "    \n",
    "df_spec = pd.DataFrame(spec)"
   ]
  },
  {
   "cell_type": "code",
   "execution_count": 99,
   "id": "5719753c-e668-4f36-8912-189633ee5acf",
   "metadata": {
    "tags": []
   },
   "outputs": [
    {
     "data": {
      "text/plain": [
       "datetime.datetime(2024, 1, 22, 23, 59)"
      ]
     },
     "execution_count": 99,
     "metadata": {},
     "output_type": "execute_result"
    }
   ],
   "source": [
    "date"
   ]
  },
  {
   "cell_type": "code",
   "execution_count": 100,
   "id": "1d61e4d2-d023-40cb-8037-799a61f5ba8b",
   "metadata": {
    "tags": []
   },
   "outputs": [],
   "source": [
    "sumlist = df_spec.sum(min_count=1, axis=1)\n",
    "dp = pd.DataFrame(np.array([((df_spec.values[i:i+1]).tolist()[0]/ sumlist.values[i]).tolist()  for i in range(len(df_spec))] ))\n",
    "# p_log = dp*np.log10(dp)\n",
    "p_log = dp*np.log(dp)\n",
    "H = -1*np.sum(p_log, axis=1)\n",
    "H = [h  if h != -0.000000 else np.nan for h in H ]\n",
    "df_H = pd.concat([pd.DataFrame({'Time':datelist, 'H': H}) ])"
   ]
  },
  {
   "cell_type": "code",
   "execution_count": 101,
   "id": "2d7e0034-f877-4479-84dc-acdbc0535b8c",
   "metadata": {},
   "outputs": [
    {
     "data": {
      "text/html": [
       "<div>\n",
       "<style scoped>\n",
       "    .dataframe tbody tr th:only-of-type {\n",
       "        vertical-align: middle;\n",
       "    }\n",
       "\n",
       "    .dataframe tbody tr th {\n",
       "        vertical-align: top;\n",
       "    }\n",
       "\n",
       "    .dataframe thead th {\n",
       "        text-align: right;\n",
       "    }\n",
       "</style>\n",
       "<table border=\"1\" class=\"dataframe\">\n",
       "  <thead>\n",
       "    <tr style=\"text-align: right;\">\n",
       "      <th></th>\n",
       "      <th>S1_1</th>\n",
       "      <th>S1_2</th>\n",
       "      <th>S1_3</th>\n",
       "      <th>S1_4</th>\n",
       "      <th>S1_5</th>\n",
       "      <th>S1_6</th>\n",
       "      <th>S1_7</th>\n",
       "    </tr>\n",
       "  </thead>\n",
       "  <tbody>\n",
       "    <tr>\n",
       "      <th>0</th>\n",
       "      <td>71.0</td>\n",
       "      <td>0.0</td>\n",
       "      <td>0.0</td>\n",
       "      <td>0.0</td>\n",
       "      <td>3.0</td>\n",
       "      <td>62.0</td>\n",
       "      <td>4.0</td>\n",
       "    </tr>\n",
       "    <tr>\n",
       "      <th>1</th>\n",
       "      <td>125.0</td>\n",
       "      <td>0.0</td>\n",
       "      <td>0.0</td>\n",
       "      <td>0.0</td>\n",
       "      <td>7.0</td>\n",
       "      <td>156.0</td>\n",
       "      <td>0.0</td>\n",
       "    </tr>\n",
       "    <tr>\n",
       "      <th>2</th>\n",
       "      <td>150.0</td>\n",
       "      <td>0.0</td>\n",
       "      <td>0.0</td>\n",
       "      <td>0.0</td>\n",
       "      <td>4.0</td>\n",
       "      <td>133.0</td>\n",
       "      <td>1.0</td>\n",
       "    </tr>\n",
       "    <tr>\n",
       "      <th>3</th>\n",
       "      <td>131.0</td>\n",
       "      <td>4.0</td>\n",
       "      <td>0.0</td>\n",
       "      <td>0.0</td>\n",
       "      <td>8.0</td>\n",
       "      <td>141.0</td>\n",
       "      <td>4.0</td>\n",
       "    </tr>\n",
       "    <tr>\n",
       "      <th>4</th>\n",
       "      <td>139.0</td>\n",
       "      <td>0.0</td>\n",
       "      <td>0.0</td>\n",
       "      <td>0.0</td>\n",
       "      <td>15.0</td>\n",
       "      <td>133.0</td>\n",
       "      <td>1.0</td>\n",
       "    </tr>\n",
       "    <tr>\n",
       "      <th>...</th>\n",
       "      <td>...</td>\n",
       "      <td>...</td>\n",
       "      <td>...</td>\n",
       "      <td>...</td>\n",
       "      <td>...</td>\n",
       "      <td>...</td>\n",
       "      <td>...</td>\n",
       "    </tr>\n",
       "    <tr>\n",
       "      <th>275</th>\n",
       "      <td>NaN</td>\n",
       "      <td>NaN</td>\n",
       "      <td>NaN</td>\n",
       "      <td>NaN</td>\n",
       "      <td>NaN</td>\n",
       "      <td>NaN</td>\n",
       "      <td>NaN</td>\n",
       "    </tr>\n",
       "    <tr>\n",
       "      <th>276</th>\n",
       "      <td>NaN</td>\n",
       "      <td>NaN</td>\n",
       "      <td>NaN</td>\n",
       "      <td>NaN</td>\n",
       "      <td>NaN</td>\n",
       "      <td>NaN</td>\n",
       "      <td>NaN</td>\n",
       "    </tr>\n",
       "    <tr>\n",
       "      <th>277</th>\n",
       "      <td>NaN</td>\n",
       "      <td>NaN</td>\n",
       "      <td>NaN</td>\n",
       "      <td>NaN</td>\n",
       "      <td>NaN</td>\n",
       "      <td>NaN</td>\n",
       "      <td>NaN</td>\n",
       "    </tr>\n",
       "    <tr>\n",
       "      <th>278</th>\n",
       "      <td>NaN</td>\n",
       "      <td>NaN</td>\n",
       "      <td>NaN</td>\n",
       "      <td>NaN</td>\n",
       "      <td>NaN</td>\n",
       "      <td>NaN</td>\n",
       "      <td>NaN</td>\n",
       "    </tr>\n",
       "    <tr>\n",
       "      <th>279</th>\n",
       "      <td>NaN</td>\n",
       "      <td>NaN</td>\n",
       "      <td>NaN</td>\n",
       "      <td>NaN</td>\n",
       "      <td>NaN</td>\n",
       "      <td>NaN</td>\n",
       "      <td>NaN</td>\n",
       "    </tr>\n",
       "  </tbody>\n",
       "</table>\n",
       "<p>280 rows × 7 columns</p>\n",
       "</div>"
      ],
      "text/plain": [
       "      S1_1  S1_2  S1_3  S1_4  S1_5   S1_6  S1_7\n",
       "0     71.0   0.0   0.0   0.0   3.0   62.0   4.0\n",
       "1    125.0   0.0   0.0   0.0   7.0  156.0   0.0\n",
       "2    150.0   0.0   0.0   0.0   4.0  133.0   1.0\n",
       "3    131.0   4.0   0.0   0.0   8.0  141.0   4.0\n",
       "4    139.0   0.0   0.0   0.0  15.0  133.0   1.0\n",
       "..     ...   ...   ...   ...   ...    ...   ...\n",
       "275    NaN   NaN   NaN   NaN   NaN    NaN   NaN\n",
       "276    NaN   NaN   NaN   NaN   NaN    NaN   NaN\n",
       "277    NaN   NaN   NaN   NaN   NaN    NaN   NaN\n",
       "278    NaN   NaN   NaN   NaN   NaN    NaN   NaN\n",
       "279    NaN   NaN   NaN   NaN   NaN    NaN   NaN\n",
       "\n",
       "[280 rows x 7 columns]"
      ]
     },
     "execution_count": 101,
     "metadata": {},
     "output_type": "execute_result"
    }
   ],
   "source": [
    "df_spec"
   ]
  },
  {
   "cell_type": "code",
   "execution_count": 102,
   "id": "64d7eff2-38d7-48da-a96b-eb2d6ed4a778",
   "metadata": {
    "tags": []
   },
   "outputs": [
    {
     "data": {
      "image/png": "[encoded data removed]",
      "text/plain": [
       "<Figure size 600x150 with 1 Axes>"
      ]
     },
     "metadata": {},
     "output_type": "display_data"
    }
   ],
   "source": [
    "plt.rcParams[\"font.family\"] = \"Times New Roman\"\n",
    "fig, ax = plt.subplots(nrows=1, ncols=1, figsize=(6, 1.5))\n",
    "\n",
    "plt.grid(axis='y', ls='--', color='lightgrey')\n",
    "\n",
    "plt.plot(df_H['Time'], df_H['H'], 'k' )\n",
    "last_index = df_H['H'][df_H['H'].isna() == False].index[-1]\n",
    "# plt.xlim(df_H['Time'][0], df_H['Time'][last_index])\n",
    "# plt.xlim(datetime(2023,6,10), datetime(2023,6,26))\n",
    "plt.ylabel('Shannon\\n Diversity Index')\n",
    "plt.ylim(0, 3)\n",
    "\n",
    "plt.xlabel(f'Day in {year}')\n",
    "ax.yaxis.set_minor_locator(MultipleLocator(0.1))\n",
    "ax.yaxis.set_major_locator(MultipleLocator(0.5))\n",
    "ax.xaxis.set_minor_locator(mdates.DayLocator(interval=3))\n",
    "ax.xaxis.set_major_locator(mdates.DayLocator(interval=15))\n",
    "ax.xaxis.set_major_formatter(mdates.DateFormatter(\"%m/%d\"))\n",
    "\n",
    "# plt.savefig('qqq.png', dpi=150)\n",
    "df_H.to_csv(f'{savepath}/{place}_{year}_index_variations.csv', index=False)\n",
    "plt.savefig(f'{savepath}/{place}_{year}_index_variations.png', dpi=150, bbox_inches='tight' )\n",
    "plt.savefig(f'{savepath}/{place}_{year}_index_variations.pdf', dpi=150, bbox_inches='tight' )"
   ]
  },
  {
   "cell_type": "code",
   "execution_count": 103,
   "id": "2161eae0-20bd-48d7-a397-6fd7b1b88a6e",
   "metadata": {
    "tags": []
   },
   "outputs": [],
   "source": [
    "def stats_plot(data, index, ax, year=2021, savepath=None):\n",
    "    Q1 = round(np.nanpercentile(data, 25, interpolation = 'midpoint'), 3)\n",
    "    Q2 = round(np.nanmedian(data),3)\n",
    "    Q3 = round(np.nanpercentile(data, 75, interpolation = 'midpoint'), 3)\n",
    "    IQR = Q3 - Q1\n",
    "    \n",
    "    upper_bound = Q3 + 1.5*IQR\n",
    "    lower_bound = Q1 - 1.5*IQR\n",
    "    \n",
    "    upper_idx = data>=upper_bound\n",
    "    lower_idx = data<=lower_bound\n",
    "\n",
    "    if len(np.where(lower_idx)[0]) == 0 and len(np.where(upper_idx)[0]) == 0:\n",
    "        drop_num = [np.nan]\n",
    "    else:\n",
    "        # print(f'origin Q: {Q1}, {Q2}, {Q3}')\n",
    "        print('dropping ....')\n",
    "\n",
    "        drop_num = [data.loc[i] for i in np.where(lower_idx)[0]] \n",
    "        for j in [data.loc[i] for i in np.where(upper_idx)[0]]:\n",
    "            drop_num.append(j)\n",
    "        \n",
    "        data = data.drop(np.where(lower_idx)[0])\n",
    "        data = data.drop(np.where(upper_idx)[0])\n",
    "\n",
    "        \n",
    "        Q1 = round(np.nanpercentile(data, 25, interpolation = 'midpoint'),3)\n",
    "        Q2 = round(np.nanmedian(data),3)\n",
    "        Q3 = round(np.nanpercentile(data, 75, interpolation = 'midpoint'),3)\n",
    "    \n",
    "    \n",
    "    ax.plot([index, index], [np.nanmin(data), np.nanmax(data)], lw=2, color='r')\n",
    "    ax.plot([index, index], [Q1, Q3], lw=7, color='r')\n",
    "    ax.plot([index], [Q2], marker='o', markersize = 7, color='white', mec='k', mew=1.5)# ,edgecolors='k', lw=2\n",
    "    ax.text(index+0.05, Q2, float(\"{:.2f}\".format(Q2,2)), ha='left', va ='top', fontsize=8)\n",
    "    \n",
    "    if not drop_num[0] is np.nan:\n",
    "        ax.scatter([index]*len(drop_num), drop_num,  marker='o', s=5, color='white', edgecolors='r', lw=2, alpha=0.2)\n",
    "    \n",
    "    print(index, Q1, Q2, Q3, drop_num, np.nanmin(data), np.nanmax(data))\n",
    "    \n",
    "    if not os.path.isfile(f'{savepath}/stats.log'):\n",
    "        minn = np.nanmin(data)\n",
    "        maxx = np.nanmax(data)\n",
    "        cmd = ''' \n",
    "        echo year,index,Q1,Q2,Q3,min,max,drop > %(savepath)s/stats.log\n",
    "        echo %(year)i,%(index)i,%(Q1)f,%(Q2)f,%(Q3)f,%(minn)f,%(maxx)f,%(drop_num)s >> %(savepath)s/stats.log\n",
    "        '''%locals()\n",
    "    else:\n",
    "        minn = np.nanmin(data)\n",
    "        maxx = np.nanmax(data)\n",
    "        cmd = ''' \n",
    "        echo %(year)i,%(index)i,%(Q1)f,%(Q2)f,%(Q3)f,%(minn)f,%(maxx)f,%(drop_num)s >> %(savepath)s/stats.log\n",
    "        '''%locals()        \n",
    "    os.system(cmd)\n",
    "    print()\n",
    "    return Q1, Q2, Q3, drop_num, ax"
   ]
  },
  {
   "cell_type": "code",
   "execution_count": 104,
   "id": "77e8f885-9584-43e8-8f5f-da056b70748b",
   "metadata": {
    "tags": []
   },
   "outputs": [
    {
     "name": "stdout",
     "output_type": "stream",
     "text": [
      "1 0.872 0.913 1.176 [nan] 0.7751368345870131 1.3222766141575601\n",
      "\n",
      "2 1.028 1.127 1.206 [nan] 0.9462512577004125 1.2948558668264447\n",
      "\n",
      "dropping ....\n",
      "3 0.826 0.979 1.034 [1.6621568509906148, 1.5915419036622103] 0.6791932659915256 1.458554734728336\n",
      "\n",
      "4 0.162 0.243 0.684 [nan] 0.10126481756679193 1.2591663602333563\n",
      "\n"
     ]
    },
    {
     "data": {
      "image/png": "[encoded data removed]",
      "text/plain": [
       "<Figure size 600x400 with 1 Axes>"
      ]
     },
     "metadata": {},
     "output_type": "display_data"
    }
   ],
   "source": [
    "fig, ax = plt.subplots(ncols=1, nrows=1, figsize=(6, 4))\n",
    "stage1 = df_H[df_H['Time']<datetime(year, 6, 10)]\n",
    "Q1, Q2, Q3, drop_num, ax = stats_plot(stage1['H'], 1, ax, year=year, savepath=savepath)\n",
    "\n",
    "stage2 = df_H[df_H['Time']>datetime(year, 6, 10)][df_H['Time']<datetime(year, 7, 30)]\n",
    "stage2 = stage2.reset_index()\n",
    "Q1, Q2, Q3, drop_num, ax = stats_plot(stage2['H'], 2, ax, year=year, savepath=savepath)\n",
    "\n",
    "stage3 = df_H[df_H['Time']>datetime(year, 7, 30)][df_H['Time']<datetime(year, 10, 1)]\n",
    "stage3 = stage3.reset_index()\n",
    "Q1, Q2, Q3, drop_num, ax = stats_plot(stage3['H'], 3, ax, year=year, savepath=savepath)\n",
    "\n",
    "if year == 2023:\n",
    "    stage4 = df_H[df_H['Time']>datetime(year, 10, 1)]\n",
    "    stage4 = stage4.reset_index()\n",
    "    Q1, Q2, Q3, drop_num, ax = stats_plot(stage4['H'], 4, ax, year=year, savepath=savepath)\n",
    "\n",
    "\n",
    "plt.ylim(0, 3)\n",
    "if year == 2023:\n",
    "    plt.xlim(0.8, 4.2)\n",
    "    plt.xticks(range(1, 5), ['Stage1', 'Stage2', 'Stage3', 'Stage4'])\n",
    "else:\n",
    "    plt.xlim(0.8, 3.2)\n",
    "    plt.xticks(range(1, 4), ['Stage1', 'Stage2', 'Stage3'])\n",
    "plt.xlabel(f'Year {year}')\n",
    "\n",
    "plt.grid(axis='y', ls='--', color='lightgrey')\n",
    "plt.ylabel('Shannon Diversity Index\\n', fontsize=12)\n",
    "\n",
    "plt.savefig(f'{savepath}/{place}_{year}_index_stats.png', dpi=150 )\n",
    "plt.savefig(f'{savepath}/{place}_{year}_index_stats.pdf', dpi=150 )"
   ]
  },
  {
   "cell_type": "code",
   "execution_count": null,
   "id": "2bb35de4-36cd-4a6a-ab8c-426aca6c55d4",
   "metadata": {},
   "outputs": [],
   "source": []
  },
  {
   "cell_type": "code",
   "execution_count": null,
   "id": "bdce3574-8fa2-4e4b-9ff3-5dd757b69943",
   "metadata": {},
   "outputs": [],
   "source": []
  },
  {
   "cell_type": "code",
   "execution_count": null,
   "id": "4791f61b-4ab5-4c1a-baa8-12c5bbe8239e",
   "metadata": {},
   "outputs": [],
   "source": []
  }
 ],
 "metadata": {
  "kernelspec": {
   "display_name": "Python 3 (ipykernel)",
   "language": "python",
   "name": "python3"
  },
  "language_info": {
   "codemirror_mode": {
    "name": "ipython",
    "version": 3
   },
   "file_extension": ".py",
   "mimetype": "text/x-python",
   "name": "python",
   "nbconvert_exporter": "python",
   "pygments_lexer": "ipython3",
   "version": "3.10.13"
  }
 },
 "nbformat": 4,
 "nbformat_minor": 5
}
