{
 "cells": [
  {
   "cell_type": "code",
   "execution_count": 6,
   "id": "9ed54083-ccb5-4ccd-971f-9702d0873f44",
   "metadata": {
    "tags": []
   },
   "outputs": [],
   "source": [
    "import glob,os\n",
    "import pandas as pd\n",
    "import numpy as np\n",
    "from matplotlib.ticker import (MultipleLocator, AutoMinorLocator)\n",
    "import warnings\n",
    "import matplotlib.pyplot as plt\n",
    "import matplotlib.cm as cm\n",
    "import matplotlib.dates as mdates\n",
    "from datetime import datetime, timedelta\n",
    "\n",
    "warnings.filterwarnings(\"ignore\")"
   ]
  },
  {
   "cell_type": "code",
   "execution_count": 7,
   "id": "6fe0c8d7-7db5-4485-9d6d-063db50faa08",
   "metadata": {
    "tags": []
   },
   "outputs": [],
   "source": [
    "oripath = '../Results/soundsepration'\n",
    "dp = pd.read_csv('../Results/soundsepration/experiment_period.txt')"
   ]
  },
  {
   "cell_type": "code",
   "execution_count": 8,
   "id": "64f739ee-0804-46fe-aa57-6d5fc5be5718",
   "metadata": {
    "tags": []
   },
   "outputs": [],
   "source": [
    "def figure_base_setting(ax):\n",
    "    ax[0].set_xlim(datetime(2021, 4, 1) ,datetime(2022, 1, 10))\n",
    "    ax[1].set_xlim(datetime(2022, 4, 1) ,datetime(2023, 1, 10))\n",
    "    ax[2].set_xlim(datetime(2023, 4, 1) ,datetime(2024, 1, 10))\n",
    "\n",
    "    ax[0].grid(axis='y', color='lightgrey')\n",
    "    ax[1].grid(axis='y', color='lightgrey')\n",
    "    ax[2].grid(axis='y', color='lightgrey')\n",
    "\n",
    "    ax[0].yaxis.set_minor_locator(MultipleLocator(0.25))\n",
    "    ax[0].yaxis.set_major_locator(MultipleLocator(0.5))\n",
    "    \n",
    "    ax[0].yaxis.set_ticks_position('both')\n",
    "    ax[1].yaxis.set_ticks_position('both')\n",
    "    ax[2].yaxis.set_ticks_position('both')\n",
    "\n",
    "    ax[0].xaxis.set_major_locator(mdates.MonthLocator(interval=1))\n",
    "    ax[1].xaxis.set_major_locator(mdates.MonthLocator(interval=1))\n",
    "    ax[2].xaxis.set_major_locator(mdates.MonthLocator(interval=1))\n",
    "    \n",
    "    ax[1].xaxis.set_major_formatter(mdates.DateFormatter(\"%b\"))\n",
    "    ax[0].xaxis.set_major_formatter(mdates.DateFormatter(\"%b\"))\n",
    "    ax[2].xaxis.set_major_formatter(mdates.DateFormatter(\"%b\"))\n"
   ]
  },
  {
   "cell_type": "code",
   "execution_count": null,
   "id": "8d85ce45-b57a-4aca-8a64-63e21465c7e8",
   "metadata": {
    "tags": []
   },
   "outputs": [
    {
     "ename": "NameError",
     "evalue": "name 'plt' is not defined",
     "output_type": "error",
     "traceback": [
      "\u001b[0;31m---------------------------------------------------------------------------\u001b[0m",
      "\u001b[0;31mNameError\u001b[0m                                 Traceback (most recent call last)",
      "Cell \u001b[0;32mIn[1], line 1\u001b[0m\n\u001b[0;32m----> 1\u001b[0m \u001b[43mplt\u001b[49m\u001b[38;5;241m.\u001b[39mrcParams[\u001b[38;5;124m\"\u001b[39m\u001b[38;5;124mfont.family\u001b[39m\u001b[38;5;124m\"\u001b[39m] \u001b[38;5;241m=\u001b[39m \u001b[38;5;124m\"\u001b[39m\u001b[38;5;124mDejaVu Sans\u001b[39m\u001b[38;5;124m\"\u001b[39m\n\u001b[1;32m      2\u001b[0m fig, ax \u001b[38;5;241m=\u001b[39m plt\u001b[38;5;241m.\u001b[39msubplots(\u001b[38;5;241m1\u001b[39m,\u001b[38;5;241m3\u001b[39m,figsize\u001b[38;5;241m=\u001b[39m(\u001b[38;5;241m15\u001b[39m,\u001b[38;5;241m4\u001b[39m), sharey\u001b[38;5;241m=\u001b[39m\u001b[38;5;28;01mTrue\u001b[39;00m)\n\u001b[1;32m      3\u001b[0m plt\u001b[38;5;241m.\u001b[39msubplots_adjust(wspace \u001b[38;5;241m=\u001b[39m \u001b[38;5;241m0.09\u001b[39m) \n",
      "\u001b[0;31mNameError\u001b[0m: name 'plt' is not defined"
     ]
    }
   ],
   "source": [
    "plt.rcParams[\"font.family\"] = \"DejaVu Sans\"\n",
    "fig, ax = plt.subplots(1,3,figsize=(15,4), sharey=True)\n",
    "plt.subplots_adjust(wspace = 0.09) \n",
    "\n",
    "            \n",
    "# for idx in range(1, 5):\n",
    "#     dp_ = dp[dp['region']=='Keelung'][dp['year']==int('2023')][dp['index']==idx]\n",
    "#     begin = dp_['begin'].values[0]; end = dp_['end'].values[0]\n",
    "#     begintime = datetime.strptime(begin, \"%Y-%m-%dT%H:%M:%S\")\n",
    "#     endtime = datetime.strptime(end, \"%Y-%m-%dT%H:%M:%S\") \n",
    "#     ax[1].hlines(xmin=begintime, xmax=endtime, y=-0.05, lw=7, color='orangered', alpha=0.5)   \n",
    "    \n",
    "for path in glob.glob(f'{oripath}/*-5min/cluster_entire_3years/*log'):\n",
    "    df = pd.read_csv(path)\n",
    "    color = 'orangered' if 'Keelung' in path else 'dodgerblue'\n",
    "    region = 'Keelung' if 'Keelung' in path else 'Taoyuan'\n",
    "    dx = -0.15 if 'Keelung' in path else 0.15\n",
    "\n",
    "    for year in [2021,2022,2023]:\n",
    "        if int(year) == 2021:\n",
    "            pidx = 0 \n",
    "        elif int(year) == 2022:\n",
    "            pidx = 1\n",
    "        elif int(year) == 2023:\n",
    "            pidx = 2  \n",
    "        ax[pidx].set_title(year, fontsize=15, fontweight='bold')\n",
    "        \n",
    "        df_year = df[df['year']==year]\n",
    "        for idx in range(len(df_year)):\n",
    "            idxx = idx+1\n",
    "            pct5 = df_year['pct5'].values[idx]\n",
    "            Q1 = df_year['Q1'].values[idx]\n",
    "            Q2 = df_year['Q2'].values[idx]\n",
    "            Q3 = df_year['Q3'].values[idx]\n",
    "            pct95 = df_year['pct95'].values[idx]\n",
    "            dp_ = dp[dp['region']==region][dp['year']==int(year)][dp['index']==idxx]\n",
    "            begin = dp_['begin'].values[0]; end = dp_['end'].values[0]\n",
    "            begintime = datetime.strptime(begin, \"%Y-%m-%dT%H:%M:%S\")\n",
    "            endtime = datetime.strptime(end, \"%Y-%m-%dT%H:%M:%S\")\n",
    "            dt = endtime - begintime\n",
    "            if year == 2023:\n",
    "                if idxx == 3 or idxx==4 :\n",
    "                    ddt = 0 if region == 'Taoyuan' else 0\n",
    "                    align = 'right' if region == 'Taoyuan' else 'left'\n",
    "                else:\n",
    "                    ddt = -4 if region == 'Keelung' else 4\n",
    "                    align = 'right' if region == 'Keelung' else 'left'\n",
    "            else:\n",
    "                ddt = -4 if region == 'Keelung' else 4\n",
    "                align = 'right' if region == 'Keelung' else 'left'\n",
    "            plottime = begintime + timedelta(days=dt.days/2+ddt)      \n",
    "\n",
    "            ax[pidx].hlines(xmin=begintime, xmax=endtime, y=-0.05, lw=7, color=color, alpha=0.5)\n",
    "            ax[pidx].plot([plottime, plottime], [pct5, pct95], lw=2, color=color)\n",
    "            ax[pidx].plot([plottime, plottime], [Q1, Q3], lw=4, color=color, label = region)\n",
    "            ax[pidx].plot([plottime], [Q2], marker = 'o', markersize = 6, color='white', mec='k', mew=1.5)# ,edgecolors='k', lw=2\n",
    "            if year == 2023:   \n",
    "                if idxx == 3 or idxx==4:\n",
    "                    if region == 'Taoyuan':\n",
    "                        ax[pidx].text(plottime + timedelta(days=-4), Q2, float(\"{:.2f}\".format(Q2,2)), color=color, alpha=0.7,\n",
    "                                  ha=align, va ='bottom', fontsize=7, fontweight='heavy')\n",
    "                    elif region == 'Keelung':\n",
    "                        ax[pidx].text(plottime + timedelta(days=4), Q2, float(\"{:.2f}\".format(Q2,2)), color=color, alpha=0.7,\n",
    "                                  ha=align, va ='bottom', fontsize=7, fontweight='heavy')\n",
    "                else:\n",
    "                    ax[pidx].text(plottime + timedelta(days=ddt), Q2, float(\"{:.2f}\".format(Q2,2)), color=color, alpha=0.7,\n",
    "                              ha=align, va ='bottom', fontsize=7, fontweight='heavy')                      \n",
    "            else:\n",
    "                ax[pidx].text(plottime + timedelta(days=ddt), Q2, float(\"{:.2f}\".format(Q2,2)), color=color, alpha=0.7,\n",
    "                              ha=align, va ='bottom', fontsize=7, fontweight='heavy')  \n",
    "\n",
    "figure_base_setting(ax)\n",
    "    \n",
    "ax[0].set_ylim(-0.1, 2.5)\n",
    "ax[0].set_ylabel('Shannon Diversity Index\\n', fontsize=12)\n",
    "\n",
    "handles, labels = ax[2].get_legend_handles_labels()\n",
    "by_label = dict(zip(labels, handles))\n",
    "plt.legend(by_label.values(), by_label.keys(), fontsize=10)\n",
    "\n",
    "\n",
    "plt.savefig('../Results/soundsepration/Finalresults/Index_3year_cluster3year_v5.pdf', dpi=200, transparent=True, )\n",
    "plt.savefig('../Results/soundsepration/Finalresults/Index_3year_cluster3year_v5.png', dpi=200, bbox_inches='tight', transparent=True, )"
   ]
  },
  {
   "cell_type": "code",
   "execution_count": null,
   "id": "74fcb7cc-d5f5-4df3-a3ce-589ecf788c6c",
   "metadata": {},
   "outputs": [],
   "source": []
  }
 ],
 "metadata": {
  "kernelspec": {
   "display_name": "Python 3 (ipykernel)",
   "language": "python",
   "name": "python3"
  },
  "language_info": {
   "codemirror_mode": {
    "name": "ipython",
    "version": 3
   },
   "file_extension": ".py",
   "mimetype": "text/x-python",
   "name": "python",
   "nbconvert_exporter": "python",
   "pygments_lexer": "ipython3",
   "version": "3.10.9"
  }
 },
 "nbformat": 4,
 "nbformat_minor": 5
}
