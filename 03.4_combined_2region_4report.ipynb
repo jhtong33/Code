{
 "cells": [
  {
   "cell_type": "code",
   "execution_count": 1,
   "id": "b20b880a-3359-4746-9ce1-a4fa9f41215f",
   "metadata": {
    "tags": []
   },
   "outputs": [],
   "source": [
    "import glob,os\n",
    "import pandas as pd\n",
    "import numpy as np\n",
    "from matplotlib.ticker import (MultipleLocator, AutoMinorLocator)\n",
    "import warnings\n",
    "import matplotlib.pyplot as plt\n",
    "import matplotlib.cm as cm\n",
    "import matplotlib.dates as mdates\n",
    "from datetime import datetime, timedelta\n",
    "\n",
    "warnings.filterwarnings(\"ignore\")"
   ]
  },
  {
   "cell_type": "code",
   "execution_count": 2,
   "id": "b561f422-ec2c-45de-9307-af4fdcf1f405",
   "metadata": {
    "tags": []
   },
   "outputs": [],
   "source": [
    "oripath = '../Results/soundsepration'\n",
    "dp = pd.read_csv('../Results/soundsepration/experiment_period.txt')"
   ]
  },
  {
   "cell_type": "code",
   "execution_count": 30,
   "id": "69b956b6-2875-4b3f-aab9-c4272d17499a",
   "metadata": {
    "tags": []
   },
   "outputs": [],
   "source": [
    "def figure_base_setting(ax):\n",
    "    ax.set_xlim(datetime(2023, 4, 1) ,datetime(2024, 1, 15))\n",
    "\n",
    "    ax.grid(axis='y', color='lightgrey')\n",
    "    ax.yaxis.set_minor_locator(MultipleLocator(0.25))\n",
    "    ax.yaxis.set_major_locator(MultipleLocator(0.5))\n",
    "    \n",
    "    ax.yaxis.set_ticks_position('both')\n",
    "    ax.xaxis.set_major_locator(mdates.MonthLocator(interval=1))\n",
    "    ax.xaxis.set_major_formatter(mdates.DateFormatter(\"%b\"))\n",
    "\n"
   ]
  },
  {
   "cell_type": "code",
   "execution_count": 31,
   "id": "f02f7967-5adc-4ef6-be27-3abc75f627e5",
   "metadata": {
    "tags": []
   },
   "outputs": [
    {
     "name": "stdout",
     "output_type": "stream",
     "text": [
      "../Results/soundsepration/Keelung-5min/20240125_160851_2023_4stage_separation/result_normalized_each_stage/stats.log\n",
      "../Results/soundsepration/Taoyuan-5min/20240125_161423_2023_4stage_separation/result_normalized_each_stage/stats.log\n"
     ]
    },
    {
     "data": {
      "image/png": "[encoded data removed]",
      "text/plain": [
       "<Figure size 600x400 with 1 Axes>"
      ]
     },
     "metadata": {},
     "output_type": "display_data"
    }
   ],
   "source": [
    "plt.rcParams[\"font.family\"] = \"DejaVu Sans\"\n",
    "fig, ax = plt.subplots(1,figsize=(6,4), sharey=True)\n",
    "plt.subplots_adjust(wspace = 0.09) \n",
    "\n",
    "            \n",
    "# for idx in range(1, 5):\n",
    "#     dp_ = dp[dp['region']=='Keelung'][dp['year']==int('2023')][dp['index']==idx]\n",
    "#     begin = dp_['begin'].values[0]; end = dp_['end'].values[0]\n",
    "#     begintime = datetime.strptime(begin, \"%Y-%m-%dT%H:%M:%S\")\n",
    "#     endtime = datetime.strptime(end, \"%Y-%m-%dT%H:%M:%S\") \n",
    "#     ax[1].hlines(xmin=begintime, xmax=endtime, y=-0.05, lw=7, color='orangered', alpha=0.5)   \n",
    "    \n",
    "for path in glob.glob(f'{oripath}/*-5min/*2023_*stage_separation/result_nor*/*log'):\n",
    "    year = path.rsplit('_')[2]\n",
    "    if int(year) == 2023 and '3stage' in path:\n",
    "        continue \n",
    "    else:\n",
    "        \n",
    "        color = 'orangered' if 'Keelung' in path else 'dodgerblue'\n",
    "        region = 'Keelung' if 'Keelung' in path else 'Taoyuan'\n",
    "        dx = -0.15 if 'Keelung' in path else 0.15\n",
    "\n",
    "        cmd = ''' awk -F, 'NR>1 {print $0}' %(path)s\n",
    "        '''%locals()\n",
    "        response = os.popen(cmd).read()\n",
    "        res_year = response.rsplit('\\n')\n",
    "\n",
    "        print(path)\n",
    "        if int(year) == 2021:\n",
    "            pidx = 0 \n",
    "        elif int(year) == 2022:\n",
    "            pidx = 1\n",
    "        elif int(year) == 2023:\n",
    "            pidx = 2  \n",
    "        ax.set_title(year, fontsize=15, fontweight='bold')\n",
    "\n",
    "        readcol = 3 if int(year) != 2023 else 4\n",
    "        for info in res_year[:readcol]:\n",
    "            stats = info.split(',', 9)\n",
    "            idx  = int(stats[1])\n",
    "            pct5 = float(stats[2])\n",
    "            Q1   = float(stats[3])\n",
    "            Q2   = float(stats[4])\n",
    "            Q3   = float(stats[5])\n",
    "            pct95   = float(stats[6])\n",
    "\n",
    "            dp_ = dp[dp['region']==region][dp['year']==int(year)][dp['index']==idx]\n",
    "            begin = dp_['begin'].values[0]; end = dp_['end'].values[0]\n",
    "            begintime = datetime.strptime(begin, \"%Y-%m-%dT%H:%M:%S\")\n",
    "            endtime = datetime.strptime(end, \"%Y-%m-%dT%H:%M:%S\")\n",
    "            dt = endtime - begintime\n",
    "            if idx == 3 or idx==4:\n",
    "                ddt = 0 if region == 'Taoyuan' else 0\n",
    "                align = 'right' if region == 'Taoyuan' else 'left'\n",
    "            else:\n",
    "                ddt = -4 if region == 'Keelung' else 4\n",
    "                align = 'right' if region == 'Keelung' else 'left'\n",
    "            \n",
    "            plottime = begintime + timedelta(days=dt.days/2+ddt)      \n",
    "\n",
    "            ax.hlines(xmin=begintime, xmax=endtime, y=-0.05, lw=7, color=color, alpha=0.5)\n",
    "            ax.plot([plottime, plottime], [pct5, pct95], lw=2, color=color)\n",
    "            ax.plot([plottime, plottime], [Q1, Q3], lw=4, color=color, label = region)\n",
    "            ax.plot([plottime], [Q2], marker = 'o', markersize = 6, color='white', mec='k', mew=1.5)# ,edgecolors='k', lw=2\n",
    "            if idx == 3 or idx==4:\n",
    "                if region == 'Taoyuan':\n",
    "                    ax.text(plottime + timedelta(days=-4), Q2, float(\"{:.2f}\".format(Q2,2)), color=color, alpha=0.7,\n",
    "                              ha=align, va ='bottom', fontsize=7, fontweight='heavy')\n",
    "                elif region == 'Keelung':\n",
    "                    ax.text(plottime + timedelta(days=4), Q2, float(\"{:.2f}\".format(Q2,2)), color=color, alpha=0.7,\n",
    "                              ha=align, va ='bottom', fontsize=7, fontweight='heavy')\n",
    "            else:\n",
    "                ax.text(plottime + timedelta(days=ddt), Q2, float(\"{:.2f}\".format(Q2,2)), color=color, alpha=0.7,\n",
    "                              ha=align, va ='bottom', fontsize=7, fontweight='heavy')                \n",
    "            # if 'nan' not in drop :\n",
    "            #     drop_num = eval(drop)\n",
    "            #     ax.scatter([plottime]*len(drop_num), drop_num,  marker='o', s=5, color='white', edgecolors=color, lw=2, alpha=0.3)\n",
    "\n",
    "figure_base_setting(ax)\n",
    "    \n",
    "ax.set_ylim(-0.1, 2.5)\n",
    "ax.set_ylabel('Shannon Diversity Index\\n', fontsize=12)\n",
    "\n",
    "handles, labels = ax.get_legend_handles_labels()\n",
    "by_label = dict(zip(labels, handles))\n",
    "plt.legend(by_label.values(), by_label.keys(), fontsize=10)\n",
    "\n",
    "savepath = '/Users/tong/Documents/09_IONTU/ForCF/海保署報告/Figure'\n",
    "plt.savefig(f'{savepath}/Diversity_index.pdf', dpi=200, transparent=True, bbox_inches='tight')\n",
    "plt.savefig(f'{savepath}/Diversity_index.png', dpi=200, bbox_inches='tight', transparent=True, )"
   ]
  },
  {
   "cell_type": "code",
   "execution_count": null,
   "id": "4c5c0e19-9ca7-4936-bbf2-e6df167f0204",
   "metadata": {},
   "outputs": [],
   "source": []
  }
 ],
 "metadata": {
  "kernelspec": {
   "display_name": "Python 3 (ipykernel)",
   "language": "python",
   "name": "python3"
  },
  "language_info": {
   "codemirror_mode": {
    "name": "ipython",
    "version": 3
   },
   "file_extension": ".py",
   "mimetype": "text/x-python",
   "name": "python",
   "nbconvert_exporter": "python",
   "pygments_lexer": "ipython3",
   "version": "3.10.9"
  }
 },
 "nbformat": 4,
 "nbformat_minor": 5
}
