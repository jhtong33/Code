{
 "cells": [
  {
   "cell_type": "code",
   "execution_count": 1,
   "id": "20b2e247-1e0b-4369-88dc-a982dd1e090b",
   "metadata": {},
   "outputs": [],
   "source": [
    "import pandas as pd\n",
    "import numpy as np\n",
    "import os, glob\n",
    "from datetime import datetime, date, timedelta\n",
    "import matplotlib.pyplot as plt\n",
    "import matplotlib.dates as mdates\n",
    "from matplotlib import cm, ticker\n",
    "from scipy.signal import savgol_filter\n",
    "import warnings\n",
    "warnings.filterwarnings('ignore')\n",
    "\n",
    "def getinfo(place, year):\n",
    "    df = pd.read_csv('../DataBase/Experiment_period.txt')\n",
    "    df_ = df[df['region']==place][df['year']==year]\n",
    "    begintime = pd.to_datetime(df_['begin'].values[0])\n",
    "    endtime = pd.to_datetime(df_['end'].values[-1])\n",
    "    # month = str(begintime.month).zfill(2)\n",
    "    return begintime, endtime"
   ]
  },
  {
   "cell_type": "code",
   "execution_count": 2,
   "id": "af9ab24b-0169-4d14-b2a4-1603a6a0abc9",
   "metadata": {},
   "outputs": [
    {
     "name": "stdout",
     "output_type": "stream",
     "text": [
      "2022-04-23 00:00:00 2022-08-23 23:00:00\n",
      "sunpath:   ../DataBase/Data_CWA/sunset_time_keelung2022.csv\n",
      "lightpath: ../DataBase/Temperature/Keelung/22*.xlsx\n",
      "rainpath:  /Volumes/Data/Rainfall_CWA/C0B050_八斗子/C0B050_2022.csv\n",
      "tidepath:  ../DataBase/Data_CWA/2022_12191_長潭里_tide.csv\n",
      "temppath:  ../DataBase/Data_CWA/2022_12191_長潭里_stemp.csv\n"
     ]
    }
   ],
   "source": [
    "place = 'Keelung'\n",
    "year = 2022\n",
    "path = f'/Volumes/home/Research/Detection_snap/{place}/{str(year)[2:3]}?????-{str(year)[2:3]}?????'\n",
    "\n",
    "\n",
    "savefig = True\n",
    "\n",
    "\n",
    "if place == 'Taoyuan':\n",
    "    begintime, endtime = getinfo(place, year)\n",
    "    sunpath = glob.glob(f'../DataBase/Data_CWA/sunset_time_taoyuan{year}.csv')[0]\n",
    "    lightpath = f'../DataBase/Temperature/Taoyuan/{str(year)[2:4]}*.xlsx'\n",
    "    rainpath = glob.glob(f'/Volumes/Data/Rainfall_CWA/467050_新屋/467050_{year}.csv')[0]\n",
    "    tidepath = glob.glob(f'../DataBase/Data_cwa/{year}_1116_竹圍_tide.csv')[0]\n",
    "    temp_cwapath = glob.glob(f'../DataBase/Data_CWA/{year}_1116_竹圍_stemp.csv')[0]\n",
    "    # begintime = datetime(year, 4, 10); endtime = datetime(year, 9, 3)\n",
    "    # ymin= 0; ymax = 4500 #Taoyuan 04 \n",
    "    ymin = 0; ymax=6000\n",
    "\n",
    "elif place == 'Keelung':\n",
    "    begintime, endtime = getinfo(place, year)\n",
    "    sunpath = glob.glob(f'../DataBase/Data_CWA/sunset_time_keelung{year}.csv')[0]\n",
    "    lightpath = f'../DataBase/Temperature/Keelung/{str(year)[2:4]}*.xlsx'\n",
    "    if year == 2021:\n",
    "        rainpath = glob.glob(f'/Volumes/Data/Rainfall_CWA/466940_基隆/466940_{year}.csv')[0]\n",
    "    else:\n",
    "        rainpath = glob.glob(f'/Volumes/Data/Rainfall_CWA/C0B050_八斗子/C0B050_{year}.csv')[0]\n",
    "    tidepath = glob.glob(f'../DataBase/Data_CWA/{year}_12191_長潭里_tide.csv')[0]\n",
    "    temp_cwapath = glob.glob(f'../DataBase/Data_CWA/{year}_12191_長潭里_stemp.csv')[0]\n",
    "    # begintime = datetime(year, 4, 17, 12); endtime = datetime(year, 5, 3, 12)\n",
    "    ymin=2000; ymax=17000\n",
    "\n",
    "\n",
    "\n",
    "print(begintime, endtime)\n",
    "print(f'sunpath:   {sunpath}')\n",
    "print(f'lightpath: {lightpath}')\n",
    "print(f'rainpath:  {rainpath}')\n",
    "print(f'tidepath:  {tidepath}')\n",
    "print(f'temppath:  {temp_cwapath}')\n",
    "dsun = pd.read_csv(sunpath)"
   ]
  },
  {
   "cell_type": "code",
   "execution_count": 52,
   "id": "1e670f85-589c-4a07-80ac-beb08f13d9e3",
   "metadata": {},
   "outputs": [],
   "source": [
    "def figure_base_setting(ax):\n",
    "    from matplotlib.ticker import (MultipleLocator, AutoMinorLocator)\n",
    "    ax[0].set_xlim(datetime(2021, 4, 1) ,datetime(2022, 1, 10))\n",
    "    ax[1].set_xlim(datetime(2022, 4, 1) ,datetime(2023, 1, 10))\n",
    "    ax[2].set_xlim(datetime(2023, 4, 1) ,datetime(2024, 1, 10))\n",
    "\n",
    "    ax[0].yaxis.set_minor_locator(MultipleLocator(1000))\n",
    "    ax[0].yaxis.set_major_locator(MultipleLocator(2000))\n",
    "    ax[1].yaxis.set_minor_locator(MultipleLocator(1000))\n",
    "    ax[1].yaxis.set_major_locator(MultipleLocator(2000))\n",
    "    ax[2].yaxis.set_minor_locator(MultipleLocator(1000))\n",
    "    ax[2].yaxis.set_major_locator(MultipleLocator(2000))\n",
    "    \n",
    "    ax[0].yaxis.set_ticks_position('left')\n",
    "    ax[1].yaxis.set_ticks_position('left')\n",
    "    ax[2].yaxis.set_ticks_position('left')\n",
    "    ax[1].set_yticklabels([])\n",
    "    ax[2].set_yticklabels([])\n",
    "\n",
    "    ax[0].xaxis.set_major_locator(mdates.MonthLocator(interval=1))\n",
    "    ax[1].xaxis.set_major_locator(mdates.MonthLocator(interval=1))\n",
    "    ax[2].xaxis.set_major_locator(mdates.MonthLocator(interval=1))\n",
    "    \n",
    "    ax[0].xaxis.set_major_formatter(mdates.DateFormatter(\"%b\"))\n",
    "    ax[1].xaxis.set_major_formatter(mdates.DateFormatter(\"%b\"))\n",
    "    ax[2].xaxis.set_major_formatter(mdates.DateFormatter(\"%b\"))\n",
    "    \n",
    "    ax[0].spines['left'].set_color('red')\n",
    "    # ax[1].spines['left'].set_color('red')\n",
    "    # ax[2].spines['left'].set_color('red')\n",
    "    ax[0].tick_params(axis = 'y', color='red', labelcolor = 'red', which='both')\n",
    "    ax[1].tick_params(axis = 'y', color='red', labelcolor = 'red', which='both')\n",
    "    ax[2].tick_params(axis = 'y', color='red', labelcolor = 'red', which='both')\n",
    "    \n",
    "def figure_base_setting_right(rax):\n",
    "    from matplotlib.ticker import (MultipleLocator, AutoMinorLocator)\n",
    "\n",
    "    rax[0].yaxis.set_minor_locator(MultipleLocator(500))\n",
    "    rax[0].yaxis.set_major_locator(MultipleLocator(1000))\n",
    "    rax[1].yaxis.set_minor_locator(MultipleLocator(500))\n",
    "    rax[1].yaxis.set_major_locator(MultipleLocator(1000))\n",
    "    rax[2].yaxis.set_minor_locator(MultipleLocator(500))\n",
    "    rax[2].yaxis.set_major_locator(MultipleLocator(1000))\n",
    "    \n",
    "    rax[0].set_yticklabels([])\n",
    "    rax[1].set_yticklabels([])\n",
    "    \n",
    "    # rax[0].spines['right'].set_color('dodgerblue')\n",
    "    # rax[1].spines['right'].set_color('dodgerblue')\n",
    "    rax[2].spines['right'].set_color('dodgerblue')\n",
    "    rax[0].tick_params(axis = 'y', color='dodgerblue', labelcolor = 'dodgerblue', which='both')\n",
    "    rax[1].tick_params(axis = 'y', color='dodgerblue', labelcolor = 'dodgerblue', which='both')\n",
    "    rax[2].tick_params(axis = 'y', color='dodgerblue', labelcolor = 'dodgerblue', which='both')\n"
   ]
  },
  {
   "cell_type": "code",
   "execution_count": 53,
   "id": "fa7269b6-cfc8-48e6-97f3-f399ec9dc156",
   "metadata": {},
   "outputs": [
    {
     "data": {
      "text/plain": [
       "'/Volumes/home/Research/Detection_snap/Taoyuan/231208-231226'"
      ]
     },
     "execution_count": 53,
     "metadata": {},
     "output_type": "execute_result"
    }
   ],
   "source": [
    "dirpath"
   ]
  },
  {
   "cell_type": "code",
   "execution_count": 54,
   "id": "27a1057b-3393-4c85-9ab2-8305e83a6649",
   "metadata": {
    "tags": []
   },
   "outputs": [
    {
     "name": "stdout",
     "output_type": "stream",
     "text": [
      "/Volumes/home/Research/Detection_snap/Keelung/210519-210606\n",
      "0 2021-05-19 00:00:00 2021-06-06 00:00:00 2021-05-24 00:00:00\n",
      "/Volumes/home/Research/Detection_snap/Keelung/210701-210718\n",
      "0 2021-07-01 00:00:00 2021-07-18 00:00:00 2021-07-05 12:00:00\n",
      "/Volumes/home/Research/Detection_snap/Keelung/210823-210910\n",
      "0 2021-08-23 00:00:00 2021-09-10 00:00:00 2021-08-28 00:00:00\n",
      "/Volumes/home/Research/Detection_snap/Keelung/220423-220512\n",
      "1 2022-04-23 00:00:00 2022-05-12 00:00:00 2022-04-28 12:00:00\n",
      "/Volumes/home/Research/Detection_snap/Keelung/220627-220716\n",
      "1 2022-06-27 00:00:00 2022-07-16 00:00:00 2022-07-02 12:00:00\n",
      "/Volumes/home/Research/Detection_snap/Keelung/220808-220824\n",
      "1 2022-08-08 00:00:00 2022-08-24 00:00:00 2022-08-12 00:00:00\n",
      "/Volumes/home/Research/Detection_snap/Keelung/230417-230505\n",
      "2 2023-04-17 00:00:00 2023-05-05 00:00:00 2023-04-22 00:00:00\n",
      "/Volumes/home/Research/Detection_snap/Keelung/230609-230625\n",
      "2 2023-06-09 00:00:00 2023-06-25 00:00:00 2023-06-13 00:00:00\n",
      "/Volumes/home/Research/Detection_snap/Keelung/230829-230915\n",
      "2 2023-08-29 00:00:00 2023-09-15 00:00:00 2023-09-02 12:00:00\n",
      "/Volumes/home/Research/Detection_snap/Keelung/231215-240106\n",
      "2 2023-12-15 00:00:00 2024-01-06 00:00:00 2023-12-22 00:00:00\n",
      "/Volumes/home/Research/Detection_snap/Taoyuan/210705-210719\n",
      "2021 2021-07-05 00:00:00 2021-07-19 00:00:00 2021-07-17 00:00:00\n",
      "/Volumes/home/Research/Detection_snap/Taoyuan/210820-210905\n",
      "2021 2021-08-20 00:00:00 2021-09-05 00:00:00 2021-09-02 00:00:00\n",
      "/Volumes/home/Research/Detection_snap/Taoyuan/210908-210924\n",
      "2021 2021-09-08 00:00:00 2021-09-24 00:00:00 2021-09-21 00:00:00\n",
      "/Volumes/home/Research/Detection_snap/Taoyuan/220422-220510\n",
      "2022 2022-04-22 00:00:00 2022-05-10 00:00:00 2022-05-06 00:00:00\n",
      "/Volumes/home/Research/Detection_snap/Taoyuan/220627-220720\n",
      "2022 2022-06-27 00:00:00 2022-07-20 00:00:00 2022-07-13 12:00:00\n",
      "/Volumes/home/Research/Detection_snap/Taoyuan/220807-220825\n",
      "2022 2022-08-07 00:00:00 2022-08-25 00:00:00 2022-08-21 00:00:00\n",
      "/Volumes/home/Research/Detection_snap/Taoyuan/230414-230501\n",
      "2023 2023-04-14 00:00:00 2023-05-01 00:00:00 2023-04-27 12:00:00\n",
      "/Volumes/home/Research/Detection_snap/Taoyuan/230608-230623\n",
      "2023 2023-06-08 00:00:00 2023-06-23 00:00:00 2023-06-20 12:00:00\n",
      "/Volumes/home/Research/Detection_snap/Taoyuan/230818-230902\n",
      "2023 2023-08-18 00:00:00 2023-09-02 00:00:00 2023-08-30 12:00:00\n",
      "/Volumes/home/Research/Detection_snap/Taoyuan/231208-231226\n",
      "2023 2023-12-08 00:00:00 2023-12-26 00:00:00 2023-12-22 00:00:00\n",
      "figure setting ... \n"
     ]
    },
    {
     "data": {
      "image/png": "[encoded data removed]",
      "text/plain": [
       "<Figure size 1500x400 with 6 Axes>"
      ]
     },
     "metadata": {},
     "output_type": "display_data"
    }
   ],
   "source": [
    "plt.rcParams[\"font.family\"] = \"Helvetica\"\n",
    "fig, ax = plt.subplots(1, 3, figsize=(15,4))#, sharey=True)\n",
    "plt.subplots_adjust(wspace = 0.1) \n",
    "\n",
    "place = 'Keelung'\n",
    "for dirpath in sorted(glob.glob(f'/Volumes/home/Research/Detection_snap/{place}/??????-??????')):\n",
    "    print(dirpath)\n",
    "    \n",
    "    \n",
    "    if '21' == dirpath.rsplit('/')[-1][:2]:\n",
    "        year = '2021'\n",
    "        pidx = 0 \n",
    "    elif '22' == dirpath.rsplit('/')[-1][:2]:\n",
    "        year = '2022'\n",
    "        pidx = 1\n",
    "    elif '23' == dirpath.rsplit('/')[-1][:2]:\n",
    "        year = '2023'\n",
    "        pidx = 2\n",
    "    \n",
    "        \n",
    "    timerange = dirpath.rsplit('/')[-1]\n",
    "    begin = timerange.rsplit('-')[0]; end = timerange.rsplit('-')[1]\n",
    "    begintime = datetime.strptime(begin, \"%y%m%d\")\n",
    "    endtime = datetime.strptime(end, \"%y%m%d\")\n",
    "    dt = endtime - begintime\n",
    "    ddt = -4 if place == 'Keelung' else 4    \n",
    "    plottime = begintime + timedelta(days=dt.days/2+ddt)      \n",
    "    print(pidx, begintime, endtime, plottime)\n",
    "    for filepath in sorted(glob.glob(f'{dirpath}/*csv')):\n",
    "        df = pd.read_csv(filepath)\n",
    "        alldf = pd.concat([alldf, df])\n",
    "\n",
    "    Q1 = np.percentile(alldf['Peak'], 95, interpolation='linear')\n",
    "    Q2 = np.percentile(alldf['Peak'], 50, interpolation='linear')\n",
    "    Q3 = np.percentile(alldf['Peak'], 5, interpolation='linear')\n",
    "    \n",
    "    \n",
    "    # print(Q1, Q2, Q3)\n",
    "    ax[pidx].hlines(xmin=begintime, xmax=endtime, y=ymin-0.05, lw=7, color='r', alpha=0.5)\n",
    "    ax[pidx].plot([plottime, plottime], [Q1, Q3], lw=4, color='r', label=place)\n",
    "    ax[pidx].plot([plottime], [Q2], marker = 'o', markersize = 7, color='white', mec='k', mew=1.5)\n",
    "    if place == 'Keelung':\n",
    "        ax[pidx].text(plottime + timedelta(days=-4), Q2, int(Q2), ha='right', va ='bottom', fontsize=6, color = 'darkred')\n",
    "    \n",
    "        # gettime = pd.to_datetime(df['Time'].values[0])\n",
    "\n",
    "place = 'Taoyuan'\n",
    "rax = [0,0,0]\n",
    "rax[0] = ax[0].twinx()\n",
    "rax[1] = ax[1].twinx()\n",
    "rax[2] = ax[2].twinx()\n",
    "for dirpath in sorted(glob.glob(f'/Volumes/home/Research/Detection_snap/{place}/??????-??????')):\n",
    "    print(dirpath)\n",
    "    alldf = pd.DataFrame()\n",
    "    \n",
    "    if '21' == dirpath.rsplit('/')[-1][:2]:\n",
    "        year = '2021'\n",
    "        \n",
    "    elif '22' == dirpath.rsplit('/')[-1][:2]:\n",
    "        year = '2022'\n",
    "        \n",
    "    elif '23' == dirpath.rsplit('/')[-1][:2]:\n",
    "        year = '2023'\n",
    "        \n",
    "        \n",
    "    timerange = dirpath.rsplit('/')[-1]\n",
    "    begin = timerange.rsplit('-')[0]; end = timerange.rsplit('-')[1]\n",
    "    begintime = datetime.strptime(begin, \"%y%m%d\")\n",
    "    endtime = datetime.strptime(end, \"%y%m%d\")\n",
    "    dt = endtime - begintime\n",
    "    ddt = -5 if place == 'Keelung' else 5    \n",
    "    plottime = begintime + timedelta(days=dt.days/2+ddt)      \n",
    "    print(year, begintime, endtime, plottime)\n",
    "    for filepath in sorted(glob.glob(f'{dirpath}/*csv')):\n",
    "        df = pd.read_csv(filepath)\n",
    "        alldf = pd.concat([alldf, df])\n",
    "\n",
    "    Q1 = np.percentile(alldf['Peak'], 95, interpolation='linear')\n",
    "    Q2 = np.percentile(alldf['Peak'], 50, interpolation='linear')\n",
    "    Q3 = np.percentile(alldf['Peak'], 5, interpolation='linear')\n",
    "    \n",
    "    \n",
    "    # print(Q1, Q2, Q3)\n",
    "    if year == '2021':\n",
    "        rax[0].hlines(xmin=begintime, xmax=endtime, y=-0.05, lw=7, color='dodgerblue', alpha=0.5)\n",
    "        rax[0].plot([plottime, plottime], [Q1, Q3], lw=4, color='dodgerblue')\n",
    "        rax[0].plot([plottime], [Q2], marker = 'o', markersize = 7, color='white', mec='k', mew=1.5)\n",
    "        rax[0].text(plottime + timedelta(days=+4), Q2, int(Q2), ha='left', va ='top', fontsize=6, color = 'cornflowerblue')\n",
    "    elif year == '2022':\n",
    "        rax[1].hlines(xmin=begintime, xmax=endtime, y=-0.05, lw=7, color='dodgerblue', alpha=0.5)\n",
    "        rax[1].plot([plottime, plottime], [Q1, Q3], lw=4, color='dodgerblue')\n",
    "        rax[1].plot([plottime], [Q2], marker = 'o', markersize = 7, color='white', mec='k', mew=1.5)\n",
    "        rax[1].text(plottime + timedelta(days=+4), Q2, int(Q2), ha='left', va ='top', fontsize=6, color = 'cornflowerblue')    \n",
    "    elif year == '2023':\n",
    "        rax[2].hlines(xmin=begintime, xmax=endtime, y=-0.05, lw=7, color='dodgerblue', alpha=0.5)\n",
    "        rax[2].plot([plottime, plottime], [Q1, Q3], lw=4, color='dodgerblue', label=place)\n",
    "        rax[2].plot([plottime], [Q2], marker = 'o', markersize = 7, color='white', mec='k', mew=1.5)\n",
    "        rax[2].text(plottime + timedelta(days=+4), Q2, int(Q2), ha='left', va ='top', fontsize=6, color = 'cornflowerblue')         \n",
    "\n",
    "print('figure setting ... ')\n",
    "\n",
    "ax[0].set_title('2021', fontsize=13, fontweight='bold')\n",
    "ax[1].set_title('2022', fontsize=13, fontweight='bold')\n",
    "ax[2].set_title('2023', fontsize=13, fontweight='bold')\n",
    "\n",
    "ax[0].set_ylim(ymin-10, ymax)\n",
    "ax[1].set_ylim(ymin-10, ymax)\n",
    "ax[2].set_ylim(ymin-10, ymax)\n",
    "ax[0].set_ylabel('Snap rate in Keelung (min$^{-1}$)', color='red', fontsize=11)\n",
    "rax[0].spines['left'].set_color('red')\n",
    "\n",
    "\n",
    "rax[0].set_ylim(0, 6500)\n",
    "rax[1].set_ylim(0, 6500)\n",
    "rax[2].set_ylim(0, 6500)\n",
    "rax[2].set_ylabel('Snap rate in Taoyuan (min$^{-1}$)', color='dodgerblue', fontsize=11)\n",
    "\n",
    "handles, labels = ax[2].get_legend_handles_labels()\n",
    "_handles, _labels = rax[2].get_legend_handles_labels()\n",
    "by_label = dict(zip([labels[0], _labels[0]], [handles[0], _handles[0]]))\n",
    "ax[2].legend(by_label.values(), by_label.keys(), fontsize=10)\n",
    "\n",
    "figure_base_setting_right(rax)\n",
    "figure_base_setting(ax)\n",
    "\n",
    "savepath = '/Users/tong/Documents/09_IONTU/Results/Detection_snap'\n",
    "fig.savefig(f'{savepath}/Snap_rate_summary_3years.png', dpi=300)\n",
    "fig.savefig(f'{savepath}/Snap_rate_summary_3years.pdf', dpi=300)"
   ]
  },
  {
   "cell_type": "code",
   "execution_count": 55,
   "id": "ebce0e98-6a7e-447c-8dde-f5c35c33da3c",
   "metadata": {},
   "outputs": [],
   "source": [
    "handles, labels = ax[2].get_legend_handles_labels()\n",
    "_handles, _labels = rax[2].get_legend_handles_labels()\n",
    "by_label = dict(zip([labels[0], _labels[0]], [handles[0], _handles[0]]))"
   ]
  },
  {
   "cell_type": "code",
   "execution_count": 47,
   "id": "b433a4e9-5bb0-4cb7-a1a9-5e14161c013c",
   "metadata": {},
   "outputs": [
    {
     "data": {
      "text/plain": [
       "{'Keelung': <matplotlib.lines.Line2D at 0x14f8884d0>,\n",
       " 'Taoyuan': <matplotlib.lines.Line2D at 0x14f7a9bd0>}"
      ]
     },
     "execution_count": 47,
     "metadata": {},
     "output_type": "execute_result"
    }
   ],
   "source": [
    "by_label"
   ]
  },
  {
   "cell_type": "code",
   "execution_count": 45,
   "id": "63209cee-b41d-4b33-9a2c-57fcd914b573",
   "metadata": {},
   "outputs": [
    {
     "data": {
      "text/plain": [
       "['Keelung', 'Keelung', 'Keelung', 'Keelung']"
      ]
     },
     "execution_count": 45,
     "metadata": {},
     "output_type": "execute_result"
    }
   ],
   "source": [
    "labels"
   ]
  },
  {
   "cell_type": "code",
   "execution_count": null,
   "id": "db88f2c1-17e2-4cb8-b23d-baac9e324eac",
   "metadata": {},
   "outputs": [],
   "source": []
  }
 ],
 "metadata": {
  "kernelspec": {
   "display_name": "Python 3 (ipykernel)",
   "language": "python",
   "name": "python3"
  },
  "language_info": {
   "codemirror_mode": {
    "name": "ipython",
    "version": 3
   },
   "file_extension": ".py",
   "mimetype": "text/x-python",
   "name": "python",
   "nbconvert_exporter": "python",
   "pygments_lexer": "ipython3",
   "version": "3.10.9"
  }
 },
 "nbformat": 4,
 "nbformat_minor": 5
}
