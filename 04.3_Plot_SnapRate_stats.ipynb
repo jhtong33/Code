{
 "cells": [
  {
   "cell_type": "code",
   "execution_count": 1,
   "id": "20b2e247-1e0b-4369-88dc-a982dd1e090b",
   "metadata": {},
   "outputs": [],
   "source": [
    "import pandas as pd\n",
    "import numpy as np\n",
    "import os, glob\n",
    "from datetime import datetime, date, timedelta\n",
    "import matplotlib.pyplot as plt\n",
    "import matplotlib.dates as mdates\n",
    "from matplotlib import cm, ticker\n",
    "from scipy.signal import savgol_filter\n",
    "import warnings\n",
    "warnings.filterwarnings('ignore')\n",
    "\n",
    "def getinfo(place, year):\n",
    "    df = pd.read_csv('../DataBase/Experiment_period.txt')\n",
    "    df_ = df[df['region']==place][df['year']==year]\n",
    "    begintime = pd.to_datetime(df_['begin'].values[0])\n",
    "    endtime = pd.to_datetime(df_['end'].values[-1])\n",
    "    # month = str(begintime.month).zfill(2)\n",
    "    return begintime, endtime"
   ]
  },
  {
   "cell_type": "code",
   "execution_count": 49,
   "id": "dd1cd63b-f228-4eba-8935-ede1e1fce2e1",
   "metadata": {},
   "outputs": [
    {
     "data": {
      "text/plain": [
       "{'22'}"
      ]
     },
     "execution_count": 49,
     "metadata": {},
     "output_type": "execute_result"
    }
   ],
   "source": [
    "{str(year)[2:4]}"
   ]
  },
  {
   "cell_type": "code",
   "execution_count": 52,
   "id": "af9ab24b-0169-4d14-b2a4-1603a6a0abc9",
   "metadata": {},
   "outputs": [
    {
     "name": "stdout",
     "output_type": "stream",
     "text": [
      "2022-04-23 00:00:00 2022-08-23 23:00:00\n",
      "sunpath:   ../DataBase/Data_CWA/sunset_time_keelung2022.csv\n",
      "lightpath: ../DataBase/Temperature/Keelung/22*.xlsx\n",
      "rainpath:  /Volumes/Data/Rainfall_CWA/C0B050_八斗子/C0B050_2022.csv\n",
      "tidepath:  ../DataBase/Data_CWA/2022_12191_長潭里_tide.csv\n",
      "temppath:  ../DataBase/Data_CWA/2022_12191_長潭里_stemp.csv\n"
     ]
    }
   ],
   "source": [
    "place = 'Keelung'\n",
    "year = 2022\n",
    "path = f'/Volumes/home/Research/Detection_snap/{place}/{str(year)[2:3]}?????-{str(year)[2:3]}?????'\n",
    "\n",
    "\n",
    "savefig = True\n",
    "\n",
    "\n",
    "if place == 'Taoyuan':\n",
    "    begintime, endtime = getinfo(place, year)\n",
    "    sunpath = glob.glob(f'../DataBase/Data_CWA/sunset_time_taoyuan{year}.csv')[0]\n",
    "    lightpath = f'../DataBase/Temperature/Taoyuan/{str(year)[2:4]}*.xlsx'\n",
    "    rainpath = glob.glob(f'/Volumes/Data/Rainfall_CWA/467050_新屋/467050_{year}.csv')[0]\n",
    "    tidepath = glob.glob(f'../DataBase/Data_cwa/{year}_1116_竹圍_tide.csv')[0]\n",
    "    temp_cwapath = glob.glob(f'../DataBase/Data_CWA/{year}_1116_竹圍_stemp.csv')[0]\n",
    "    # begintime = datetime(year, 4, 10); endtime = datetime(year, 9, 3)\n",
    "    # ymin= 0; ymax = 4500 #Taoyuan 04 \n",
    "    ymin = 0; ymax=6000\n",
    "\n",
    "elif place == 'Keelung':\n",
    "    begintime, endtime = getinfo(place, year)\n",
    "    sunpath = glob.glob(f'../DataBase/Data_CWA/sunset_time_keelung{year}.csv')[0]\n",
    "    lightpath = f'../DataBase/Temperature/Keelung/{str(year)[2:4]}*.xlsx'\n",
    "    if year == 2021:\n",
    "        rainpath = glob.glob(f'/Volumes/Data/Rainfall_CWA/466940_基隆/466940_{year}.csv')[0]\n",
    "    else:\n",
    "        rainpath = glob.glob(f'/Volumes/Data/Rainfall_CWA/C0B050_八斗子/C0B050_{year}.csv')[0]\n",
    "    tidepath = glob.glob(f'../DataBase/Data_CWA/{year}_12191_長潭里_tide.csv')[0]\n",
    "    temp_cwapath = glob.glob(f'../DataBase/Data_CWA/{year}_12191_長潭里_stemp.csv')[0]\n",
    "    # begintime = datetime(year, 4, 17, 12); endtime = datetime(year, 5, 3, 12)\n",
    "    ymin=3000; ymax=17000\n",
    "\n",
    "\n",
    "\n",
    "print(begintime, endtime)\n",
    "print(f'sunpath:   {sunpath}')\n",
    "print(f'lightpath: {lightpath}')\n",
    "print(f'rainpath:  {rainpath}')\n",
    "print(f'tidepath:  {tidepath}')\n",
    "print(f'temppath:  {temp_cwapath}')\n",
    "dsun = pd.read_csv(sunpath)"
   ]
  },
  {
   "cell_type": "code",
   "execution_count": 108,
   "id": "1e670f85-589c-4a07-80ac-beb08f13d9e3",
   "metadata": {},
   "outputs": [],
   "source": [
    "def figure_base_setting(ax):\n",
    "    from matplotlib.ticker import (MultipleLocator, AutoMinorLocator)\n",
    "    ax[0].set_xlim(datetime(2021, 4, 1) ,datetime(2021, 10, 1))\n",
    "    ax[1].set_xlim(datetime(2022, 4, 1) ,datetime(2022, 10, 1))\n",
    "    ax[2].set_xlim(datetime(2023, 4, 1) ,datetime(2023, 10, 1))\n",
    "\n",
    "    ax[0].yaxis.set_minor_locator(MultipleLocator(1000))\n",
    "    ax[0].yaxis.set_major_locator(MultipleLocator(2000))\n",
    "    ax[1].yaxis.set_minor_locator(MultipleLocator(1000))\n",
    "    ax[1].yaxis.set_major_locator(MultipleLocator(2000))\n",
    "    ax[2].yaxis.set_minor_locator(MultipleLocator(1000))\n",
    "    ax[2].yaxis.set_major_locator(MultipleLocator(2000))\n",
    "    \n",
    "    ax[0].yaxis.set_ticks_position('left')\n",
    "    ax[1].yaxis.set_ticks_position('left')\n",
    "    ax[2].yaxis.set_ticks_position('left')\n",
    "    ax[1].set_yticklabels([])\n",
    "    ax[2].set_yticklabels([])\n",
    "\n",
    "    ax[0].xaxis.set_major_locator(mdates.MonthLocator(interval=1))\n",
    "    ax[1].xaxis.set_major_locator(mdates.MonthLocator(interval=1))\n",
    "    ax[2].xaxis.set_major_locator(mdates.MonthLocator(interval=1))\n",
    "    \n",
    "    ax[0].xaxis.set_major_formatter(mdates.DateFormatter(\"%b\"))\n",
    "    ax[1].xaxis.set_major_formatter(mdates.DateFormatter(\"%b\"))\n",
    "    ax[2].xaxis.set_major_formatter(mdates.DateFormatter(\"%b\"))\n",
    "    \n",
    "    ax[0].spines['left'].set_color('red')\n",
    "    # ax[1].spines['left'].set_color('red')\n",
    "    # ax[2].spines['left'].set_color('red')\n",
    "    ax[0].tick_params(axis = 'y', color='red', labelcolor = 'red', which='both')\n",
    "    ax[1].tick_params(axis = 'y', color='red', labelcolor = 'red', which='both')\n",
    "    ax[2].tick_params(axis = 'y', color='red', labelcolor = 'red', which='both')\n",
    "    \n",
    "def figure_base_setting_right(rax):\n",
    "    from matplotlib.ticker import (MultipleLocator, AutoMinorLocator)\n",
    "\n",
    "    rax[0].yaxis.set_minor_locator(MultipleLocator(500))\n",
    "    rax[0].yaxis.set_major_locator(MultipleLocator(1000))\n",
    "    rax[1].yaxis.set_minor_locator(MultipleLocator(500))\n",
    "    rax[1].yaxis.set_major_locator(MultipleLocator(1000))\n",
    "    rax[2].yaxis.set_minor_locator(MultipleLocator(500))\n",
    "    rax[2].yaxis.set_major_locator(MultipleLocator(1000))\n",
    "    \n",
    "    rax[0].set_yticklabels([])\n",
    "    rax[1].set_yticklabels([])\n",
    "    \n",
    "    # rax[0].spines['right'].set_color('dodgerblue')\n",
    "    # rax[1].spines['right'].set_color('dodgerblue')\n",
    "    rax[2].spines['right'].set_color('dodgerblue')\n",
    "    rax[0].tick_params(axis = 'y', color='dodgerblue', labelcolor = 'dodgerblue', which='both')\n",
    "    rax[1].tick_params(axis = 'y', color='dodgerblue', labelcolor = 'dodgerblue', which='both')\n",
    "    rax[2].tick_params(axis = 'y', color='dodgerblue', labelcolor = 'dodgerblue', which='both')\n"
   ]
  },
  {
   "cell_type": "code",
   "execution_count": 113,
   "id": "27a1057b-3393-4c85-9ab2-8305e83a6649",
   "metadata": {
    "tags": []
   },
   "outputs": [
    {
     "name": "stdout",
     "output_type": "stream",
     "text": [
      "11976.65 10545.0 9066.35\n",
      "12070.349999999999 10580.0 8456.65\n",
      "11198.0 9706.0 8422.75\n",
      "13297.0 10144.0 6877.85\n",
      "15392.85 13127.0 10961.15\n",
      "11779.0 10546.5 8847.0\n",
      "7736.0 5575.0 3911.4\n",
      "8950.349999999999 6757.5 5188.0\n",
      "9310.05 7222.0 5890.95\n",
      "4519.0 3669.0 3033.55\n",
      "4935.0 3923.0 3216.0\n",
      "4420.0 3518.0 2888.0\n",
      "2956.0 2233.0 1724.25\n",
      "4622.049999999999 3865.0 3281.95\n",
      "4557.0 3780.0 3150.9\n",
      "2896.0 2184.5 1624.0\n",
      "4245.0 3637.0 3100.0\n",
      "3953.149999999998 3383.0 2697.0\n",
      "figure setting ... \n"
     ]
    },
    {
     "data": {
      "text/plain": [
       "Text(0, 0.5, 'Snap rate in Taoyuan (min$^{-1}$)')"
      ]
     },
     "execution_count": 113,
     "metadata": {},
     "output_type": "execute_result"
    },
    {
     "data": {
      "image/png": "[encoded data removed]",
      "text/plain": [
       "<Figure size 1200x400 with 6 Axes>"
      ]
     },
     "metadata": {},
     "output_type": "display_data"
    }
   ],
   "source": [
    "plt.rcParams[\"font.family\"] = \"DejaVu Sans\"\n",
    "fig, ax = plt.subplots(1,3,figsize=(12,4))#, sharey=True)\n",
    "plt.subplots_adjust(wspace = 0.1) \n",
    "\n",
    "place = 'Keelung'\n",
    "for dirpath in sorted(glob.glob(f'/Volumes/home/Research/Detection_snap/{place}/??????-??????')):\n",
    "    alldf = pd.DataFrame()\n",
    "    \n",
    "    if '21' in dirpath:\n",
    "        year = '2021'\n",
    "        pidx = 0 \n",
    "    elif '22' in dirpath:\n",
    "        year = '2022'\n",
    "        pidx = 1\n",
    "    elif '23' in dirpath:\n",
    "        year = '2023'\n",
    "        pidx = 2\n",
    "    ax[pidx].set_title(year, fontsize=13, fontweight='bold')\n",
    "        \n",
    "    timerange = dirpath.rsplit('/')[-1]\n",
    "    begin = timerange.rsplit('-')[0]; end = timerange.rsplit('-')[1]\n",
    "    begintime = datetime.strptime(begin, \"%y%m%d\")\n",
    "    endtime = datetime.strptime(end, \"%y%m%d\")\n",
    "    dt = endtime - begintime\n",
    "    ddt = -4 if place == 'Keelung' else 4    \n",
    "    plottime = begintime + timedelta(days=dt.days/2+ddt)      \n",
    "    \n",
    "    for filepath in sorted(glob.glob(f'{dirpath}/*csv')):\n",
    "        df = pd.read_csv(filepath)\n",
    "        alldf = pd.concat([alldf, df])\n",
    "\n",
    "    Q1 = np.percentile(alldf['Peak'], 95, interpolation='linear')\n",
    "    Q2 = np.percentile(alldf['Peak'], 50, interpolation='linear')\n",
    "    Q3 = np.percentile(alldf['Peak'], 5, interpolation='linear')\n",
    "    \n",
    "    \n",
    "    print(Q1, Q2, Q3)\n",
    "    ax[pidx].hlines(xmin=begintime, xmax=endtime, y=ymin-0.05, lw=7, color='r', alpha=0.5)\n",
    "    ax[pidx].plot([plottime, plottime], [Q1, Q3], lw=4, color='r')\n",
    "    ax[pidx].plot([plottime], [Q2], marker = 'o', markersize = 7, color='white', mec='k', mew=1.5)\n",
    "    if place == 'Keelung':\n",
    "        ax[pidx].text(plottime + timedelta(days=-4), Q2, int(Q2), ha='right', va ='bottom', fontsize=6)\n",
    "    \n",
    "        # gettime = pd.to_datetime(df['Time'].values[0])\n",
    "\n",
    "place = 'Taoyuan'\n",
    "rax = [0,0,0]\n",
    "rax[0] = ax[0].twinx()\n",
    "rax[1] = ax[1].twinx()\n",
    "rax[2] = ax[2].twinx()\n",
    "for dirpath in sorted(glob.glob(f'/Volumes/home/Research/Detection_snap/{place}/??????-??????')):\n",
    "    alldf = pd.DataFrame()\n",
    "    \n",
    "    if '21' in dirpath:\n",
    "        year = '2021'\n",
    "        \n",
    "    elif '22' in dirpath:\n",
    "        year = '2022'\n",
    "        \n",
    "    elif '23' in dirpath:\n",
    "        year = '2023'\n",
    "        \n",
    "        \n",
    "    timerange = dirpath.rsplit('/')[-1]\n",
    "    begin = timerange.rsplit('-')[0]; end = timerange.rsplit('-')[1]\n",
    "    begintime = datetime.strptime(begin, \"%y%m%d\")\n",
    "    endtime = datetime.strptime(end, \"%y%m%d\")\n",
    "    dt = endtime - begintime\n",
    "    ddt = -5 if place == 'Keelung' else 5    \n",
    "    plottime = begintime + timedelta(days=dt.days/2+ddt)      \n",
    "    \n",
    "    for filepath in sorted(glob.glob(f'{dirpath}/*csv')):\n",
    "        df = pd.read_csv(filepath)\n",
    "        alldf = pd.concat([alldf, df])\n",
    "\n",
    "    Q1 = np.percentile(alldf['Peak'], 95, interpolation='linear')\n",
    "    Q2 = np.percentile(alldf['Peak'], 50, interpolation='linear')\n",
    "    Q3 = np.percentile(alldf['Peak'], 5, interpolation='linear')\n",
    "    \n",
    "    \n",
    "    print(Q1, Q2, Q3)\n",
    "    if year == '2021':\n",
    "        rax[0].hlines(xmin=begintime, xmax=endtime, y=-0.05, lw=7, color='dodgerblue', alpha=0.5)\n",
    "        rax[0].plot([plottime, plottime], [Q1, Q3], lw=4, color='dodgerblue')\n",
    "        rax[0].plot([plottime], [Q2], marker = 'o', markersize = 7, color='white', mec='k', mew=1.5)\n",
    "        rax[0].text(plottime + timedelta(days=+4), Q2, int(Q2), ha='left', va ='bottom', fontsize=6)\n",
    "    elif year == '2022':\n",
    "        rax[1].hlines(xmin=begintime, xmax=endtime, y=-0.05, lw=7, color='dodgerblue', alpha=0.5)\n",
    "        rax[1].plot([plottime, plottime], [Q1, Q3], lw=4, color='dodgerblue')\n",
    "        rax[1].plot([plottime], [Q2], marker = 'o', markersize = 7, color='white', mec='k', mew=1.5)\n",
    "        rax[1].text(plottime + timedelta(days=+4), Q2, int(Q2), ha='left', va ='bottom', fontsize=6)    \n",
    "    elif year == '2023':\n",
    "        rax[2].hlines(xmin=begintime, xmax=endtime, y=-0.05, lw=7, color='dodgerblue', alpha=0.5)\n",
    "        rax[2].plot([plottime, plottime], [Q1, Q3], lw=4, color='dodgerblue')\n",
    "        rax[2].plot([plottime], [Q2], marker = 'o', markersize = 7, color='white', mec='k', mew=1.5)\n",
    "        rax[2].text(plottime + timedelta(days=+4), Q2, int(Q2), ha='left', va ='bottom', fontsize=6)         \n",
    "\n",
    "print('figure setting ... ')\n",
    "figure_base_setting(ax)\n",
    "figure_base_setting_right(rax)\n",
    "\n",
    "ax[0].set_ylim(ymin-10, ymax)\n",
    "ax[1].set_ylim(ymin-10, ymax)\n",
    "ax[2].set_ylim(ymin-10, ymax)\n",
    "ax[0].set_ylabel('Snap rate in Keelung (min$^{-1}$)', color='red', fontsize=13)\n",
    "rax[0].spines['left'].set_color('red')\n",
    "\n",
    "\n",
    "rax[0].set_ylim(0, 6500)\n",
    "rax[1].set_ylim(0, 6500)\n",
    "rax[2].set_ylim(0, 6500)\n",
    "rax[2].set_ylabel('Snap rate in Taoyuan (min$^{-1}$)', color='dodgerblue', fontsize=13)\n"
   ]
  },
  {
   "cell_type": "code",
   "execution_count": 64,
   "id": "ebce0e98-6a7e-447c-8dde-f5c35c33da3c",
   "metadata": {},
   "outputs": [
    {
     "data": {
      "text/plain": [
       "'/Volumes/home/Research/Detection_snap/Keelung'"
      ]
     },
     "execution_count": 64,
     "metadata": {},
     "output_type": "execute_result"
    }
   ],
   "source": [
    "dirpath"
   ]
  },
  {
   "cell_type": "code",
   "execution_count": null,
   "id": "b433a4e9-5bb0-4cb7-a1a9-5e14161c013c",
   "metadata": {},
   "outputs": [],
   "source": []
  }
 ],
 "metadata": {
  "kernelspec": {
   "display_name": "Python 3 (ipykernel)",
   "language": "python",
   "name": "python3"
  },
  "language_info": {
   "codemirror_mode": {
    "name": "ipython",
    "version": 3
   },
   "file_extension": ".py",
   "mimetype": "text/x-python",
   "name": "python",
   "nbconvert_exporter": "python",
   "pygments_lexer": "ipython3",
   "version": "3.10.9"
  }
 },
 "nbformat": 4,
 "nbformat_minor": 5
}
