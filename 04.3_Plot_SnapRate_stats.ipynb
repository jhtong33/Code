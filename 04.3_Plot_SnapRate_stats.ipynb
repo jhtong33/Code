{
 "cells": [
  {
   "cell_type": "code",
   "execution_count": 1,
   "id": "20b2e247-1e0b-4369-88dc-a982dd1e090b",
   "metadata": {},
   "outputs": [],
   "source": [
    "import pandas as pd\n",
    "import numpy as np\n",
    "import os, glob\n",
    "from datetime import datetime, date, timedelta\n",
    "import matplotlib.pyplot as plt\n",
    "import matplotlib.dates as mdates\n",
    "from matplotlib import cm, ticker\n",
    "from scipy.signal import savgol_filter\n",
    "import warnings\n",
    "warnings.filterwarnings('ignore')\n",
    "\n",
    "def getinfo(place, year):\n",
    "    df = pd.read_csv('../DataBase/Experiment_period.txt')\n",
    "    df_ = df[df['region']==place][df['year']==year]\n",
    "    begintime = pd.to_datetime(df_['begin'].values[0])\n",
    "    endtime = pd.to_datetime(df_['end'].values[-1])\n",
    "    # month = str(begintime.month).zfill(2)\n",
    "    return begintime, endtime"
   ]
  },
  {
   "cell_type": "code",
   "execution_count": 28,
   "id": "af9ab24b-0169-4d14-b2a4-1603a6a0abc9",
   "metadata": {},
   "outputs": [
    {
     "name": "stdout",
     "output_type": "stream",
     "text": [
      "2021-07-05 18:00:00 2021-09-24 05:00:00\n",
      "sunpath:   ../DataBase/Data_CWA/sunset_time_taoyuan2021.csv\n",
      "lightpath: ../DataBase/Temperature/Taoyuan/21*.xlsx\n",
      "rainpath:  /Volumes/Data/Rainfall_CWA/467050_新屋/467050_2021.csv\n",
      "tidepath:  ../DataBase/Data_cwa/2021_1116_竹圍_tide.csv\n",
      "temppath:  ../DataBase/Data_CWA/2021_1116_竹圍_stemp.csv\n"
     ]
    }
   ],
   "source": [
    "place = 'Taoyuan'\n",
    "year = 2021\n",
    "path = f'/Volumes/home/Research/Detection_snap/{place}/{str(year)[2:3]}*'\n",
    "\n",
    "\n",
    "savefig = True\n",
    "\n",
    "\n",
    "if place == 'Taoyuan':\n",
    "    begintime, endtime = getinfo(place, year)\n",
    "    sunpath = glob.glob(f'../DataBase/Data_CWA/sunset_time_taoyuan{year}.csv')[0]\n",
    "    lightpath = f'../DataBase/Temperature/Taoyuan/{str(year)[2:4]}*.xlsx'\n",
    "    rainpath = glob.glob(f'/Volumes/Data/Rainfall_CWA/467050_新屋/467050_{year}.csv')[0]\n",
    "    tidepath = glob.glob(f'../DataBase/Data_cwa/{year}_1116_竹圍_tide.csv')[0]\n",
    "    temp_cwapath = glob.glob(f'../DataBase/Data_CWA/{year}_1116_竹圍_stemp.csv')[0]\n",
    "    # begintime = datetime(year, 4, 10); endtime = datetime(year, 9, 3)\n",
    "    # ymin= 0; ymax = 4500 #Taoyuan 04 \n",
    "    ymin = 0; ymax=6000\n",
    "\n",
    "elif place == 'Keelung':\n",
    "    begintime, endtime = getinfo(place, year)\n",
    "    sunpath = glob.glob(f'../DataBase/Data_CWA/sunset_time_keelung{year}.csv')[0]\n",
    "    lightpath = f'../DataBase/Temperature/Keelung/{str(year)[2:4]}*.xlsx'\n",
    "    if year == 2021:\n",
    "        rainpath = glob.glob(f'/Volumes/Data/Rainfall_CWA/466940_基隆/466940_{year}.csv')[0]\n",
    "    else:\n",
    "        rainpath = glob.glob(f'/Volumes/Data/Rainfall_CWA/C0B050_八斗子/C0B050_{year}.csv')[0]\n",
    "    tidepath = glob.glob(f'../DataBase/Data_CWA/{year}_12191_長潭里_tide.csv')[0]\n",
    "    temp_cwapath = glob.glob(f'../DataBase/Data_CWA/{year}_12191_長潭里_stemp.csv')[0]\n",
    "    # begintime = datetime(year, 4, 17, 12); endtime = datetime(year, 5, 3, 12)\n",
    "    ymin=3000; ymax=16000\n",
    "\n",
    "\n",
    "\n",
    "print(begintime, endtime)\n",
    "print(f'sunpath:   {sunpath}')\n",
    "print(f'lightpath: {lightpath}')\n",
    "print(f'rainpath:  {rainpath}')\n",
    "print(f'tidepath:  {tidepath}')\n",
    "print(f'temppath:  {temp_cwapath}')\n",
    "dsun = pd.read_csv(sunpath)"
   ]
  },
  {
   "cell_type": "code",
   "execution_count": 29,
   "id": "1e670f85-589c-4a07-80ac-beb08f13d9e3",
   "metadata": {},
   "outputs": [],
   "source": [
    "def figure_base_setting(ax):\n",
    "    from matplotlib.ticker import (MultipleLocator, AutoMinorLocator)\n",
    "    ax[0].set_xlim(datetime(2021,4,1) ,datetime(2021,10,1))\n",
    "    ax[1].set_xlim(datetime(2022,4,1) ,datetime(2022,10,1))\n",
    "    ax[2].set_xlim(datetime(2023,4,1) ,datetime(2023,10,1))\n",
    "\n",
    "    ax[0].grid(axis='y', color='lightgrey')\n",
    "    ax[1].grid(axis='y', color='lightgrey')\n",
    "    ax[2].grid(axis='y', color='lightgrey')\n",
    "\n",
    "    ax[0].yaxis.set_minor_locator(MultipleLocator(500))\n",
    "    ax[0].yaxis.set_major_locator(MultipleLocator(1000))\n",
    "    \n",
    "    ax[0].yaxis.set_ticks_position('both')\n",
    "    ax[1].yaxis.set_ticks_position('both')\n",
    "    ax[2].yaxis.set_ticks_position('both')\n",
    "\n",
    "    ax[0].xaxis.set_major_locator(mdates.MonthLocator(interval=1))\n",
    "    ax[1].xaxis.set_major_locator(mdates.MonthLocator(interval=1))\n",
    "    ax[2].xaxis.set_major_locator(mdates.MonthLocator(interval=1))\n",
    "    \n",
    "    ax[1].xaxis.set_major_formatter(mdates.DateFormatter(\"%b\"))\n",
    "    ax[0].xaxis.set_major_formatter(mdates.DateFormatter(\"%b\"))\n",
    "    ax[2].xaxis.set_major_formatter(mdates.DateFormatter(\"%b\"))\n"
   ]
  },
  {
   "cell_type": "code",
   "execution_count": 31,
   "id": "27a1057b-3393-4c85-9ab2-8305e83a6649",
   "metadata": {
    "tags": []
   },
   "outputs": [
    {
     "name": "stdout",
     "output_type": "stream",
     "text": [
      "4519.0 3669.0 3033.55\n",
      "4860.199999999999 3810.0 3110.9\n",
      "4420.0 3518.0 2888.0\n",
      "2956.0 2233.0 1724.25\n",
      "4622.049999999999 3865.0 3281.95\n",
      "4557.0 3780.0 3150.9\n",
      "2905.0 2192.0 1635.0\n",
      "4245.0 3637.0 3100.0\n",
      "3953.149999999998 3383.0 2697.0\n"
     ]
    },
    {
     "data": {
      "text/plain": [
       "Text(0, 0.5, 'Snap rate (min$^{-1}$)')"
      ]
     },
     "execution_count": 31,
     "metadata": {},
     "output_type": "execute_result"
    },
    {
     "data": {
      "image/png": "[encoded data removed]",
      "text/plain": [
       "<Figure size 1200x500 with 3 Axes>"
      ]
     },
     "metadata": {},
     "output_type": "display_data"
    }
   ],
   "source": [
    "plt.rcParams[\"font.family\"] = \"DejaVu Sans\"\n",
    "fig, ax = plt.subplots(1,3,figsize=(12,5), sharey=True)\n",
    "plt.subplots_adjust(wspace = 0.1) \n",
    "\n",
    "for dirpath in sorted(glob.glob(f'{path}')):\n",
    "    alldf = pd.DataFrame()\n",
    "    \n",
    "    if '21' in dirpath:\n",
    "        year = '2021'\n",
    "        pidx = 0 \n",
    "    elif '22' in dirpath:\n",
    "        year = '2022'\n",
    "        pidx = 1\n",
    "    elif '23' in dirpath:\n",
    "        year = '2023'\n",
    "        pidx = 2\n",
    "    ax[pidx].set_title(year, fontsize=13, fontweight='bold')\n",
    "        \n",
    "    timerange = dirpath.rsplit('/')[-1]\n",
    "    begin = timerange.rsplit('-')[0]; end = timerange.rsplit('-')[1]\n",
    "    begintime = datetime.strptime(begin, \"%y%m%d\")\n",
    "    endtime = datetime.strptime(end, \"%y%m%d\")\n",
    "    dt = endtime - begintime\n",
    "    # ddt = -4 if region == 'Keelung' else 4\n",
    "    plottime = begintime + timedelta(days=dt.days/2)       \n",
    "    \n",
    "    for filepath in sorted(glob.glob(f'{dirpath}/*csv')):\n",
    "        \n",
    "        df = pd.read_csv(filepath)\n",
    "        alldf = pd.concat([alldf, df])\n",
    "        \n",
    "    \n",
    "    Q1 = np.percentile(alldf['Peak'], 95, interpolation='linear')\n",
    "    Q2 = np.percentile(alldf['Peak'], 50, interpolation='linear')\n",
    "    Q3 = np.percentile(alldf['Peak'], 5, interpolation='linear')\n",
    "    \n",
    "    \n",
    "    print(Q1, Q2, Q3)\n",
    "    ax[pidx].hlines(xmin=begintime, xmax=endtime, y=ymin-0.05, lw=7, color='black', alpha=0.5)\n",
    "    ax[pidx].plot([plottime, plottime], [Q1, Q3], lw=5, color='black')\n",
    "    ax[pidx].plot([plottime], [Q2], marker = 'o', markersize = 7, color='white', mec='k', mew=1.5)\n",
    "    \n",
    "        # gettime = pd.to_datetime(df['Time'].values[0])\n",
    "    \n",
    "figure_base_setting(ax)\n",
    "ax[0].set_ylim(ymin-10, ymax)\n",
    "ax[0].set_ylabel('Snap rate (min$^{-1}$)')"
   ]
  },
  {
   "cell_type": "code",
   "execution_count": null,
   "id": "14e860eb-a2ae-4a8b-8094-e3cb482a5a80",
   "metadata": {},
   "outputs": [],
   "source": []
  },
  {
   "cell_type": "code",
   "execution_count": null,
   "id": "59bb3c21-f537-4f12-a9ca-8273377f68cf",
   "metadata": {},
   "outputs": [],
   "source": []
  }
 ],
 "metadata": {
  "kernelspec": {
   "display_name": "Python 3 (ipykernel)",
   "language": "python",
   "name": "python3"
  },
  "language_info": {
   "codemirror_mode": {
    "name": "ipython",
    "version": 3
   },
   "file_extension": ".py",
   "mimetype": "text/x-python",
   "name": "python",
   "nbconvert_exporter": "python",
   "pygments_lexer": "ipython3",
   "version": "3.10.9"
  }
 },
 "nbformat": 4,
 "nbformat_minor": 5
}
