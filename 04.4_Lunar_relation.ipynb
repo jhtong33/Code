{
 "cells": [
  {
   "cell_type": "code",
   "execution_count": 98,
   "id": "862a00b1-962b-4714-9a41-d4a8c12f24f4",
   "metadata": {},
   "outputs": [],
   "source": [
    "import pandas as pd\n",
    "import glob, os, re\n",
    "import numpy as np\n",
    "from datetime import datetime, timedelta\n",
    "import matplotlib.pyplot as plt\n",
    "import matplotlib.dates as mdates\n",
    "from matplotlib import cm, ticker\n",
    "from collections import defaultdict\n",
    "import warnings\n",
    "warnings.filterwarnings('ignore')\n",
    "\n",
    "def getinfo(place, year, stage):\n",
    "    df = pd.read_csv('../DataBase/Experiment_period.txt')\n",
    "    df_ = df[df['region']==place][df['year']==year][df['index']==stage]\n",
    "    begintime = pd.to_datetime(df_['begin'].values[0])\n",
    "    endtime = pd.to_datetime(df_['end'].values[0])\n",
    "    month = str(begintime.month).zfill(2)\n",
    "    return begintime, endtime, month"
   ]
  },
  {
   "cell_type": "code",
   "execution_count": 114,
   "id": "a5c12723-100f-4823-bd66-88b9a5cd3048",
   "metadata": {},
   "outputs": [],
   "source": [
    "year = 2023\n",
    "place = 'Keelung'\n",
    "path = f'/Volumes/home/Research/Detection_snap/Keelung/23'\n",
    "begintime, endtime, month = getinfo(place, year, 3)\n",
    "\n",
    "timepath = f'../DataBase/Data_CWA/lunar_time_{year}.csv'\n",
    "\n",
    "dtime = pd.read_csv(timepath)\n",
    "sunpath = glob.glob(f'../DataBase/Data_CWA/sunset_time_keelung{year}.csv')[0]\n",
    "dsun = pd.read_csv(sunpath)\n",
    "tidepath = glob.glob(f'../DataBase/Data_CWA/{year}_12191_長潭里_tide.csv')[0]\n",
    "dtide = pd.read_csv(tidepath, skiprows=20)\n",
    "\n",
    "lightpath = glob.glob(f'../DataBase/Temperature/Keelung/{str(year)[2:4]}{month}*.xlsx')[0] if glob.glob(f'../DataBase/Temperature/Keelung/{str(year)[2:4]}{month}*.xlsx') != [] else None\n",
    "\n",
    "\n",
    "\n"
   ]
  },
  {
   "cell_type": "code",
   "execution_count": 115,
   "id": "d5e02fcf-699f-45f7-a6ab-da9d61d7078b",
   "metadata": {},
   "outputs": [
    {
     "data": {
      "text/plain": [
       "'../DataBase/Temperature/Keelung/230829-230914.xlsx'"
      ]
     },
     "execution_count": 115,
     "metadata": {},
     "output_type": "execute_result"
    }
   ],
   "source": [
    "lightpath"
   ]
  },
  {
   "cell_type": "code",
   "execution_count": 116,
   "id": "f14843cb-9ec1-4810-989c-9d90e1ff0cb6",
   "metadata": {},
   "outputs": [],
   "source": [
    "targer_time = [29,30,1,2,3,13,14,15,16,17]"
   ]
  },
  {
   "cell_type": "code",
   "execution_count": 117,
   "id": "d6fb174c-2067-4c71-9bf8-9ca4c50d3ed0",
   "metadata": {},
   "outputs": [],
   "source": [
    "def plotnight(time, ax, ymin, ymax):\n",
    "    year = time.year\n",
    "    month = time.month\n",
    "    day = time.day\n",
    "    nextdate = time+timedelta(days=1)\n",
    "    nextyear = nextdate.year\n",
    "    nextmonth = nextdate.month\n",
    "    nextday = nextdate.day\n",
    "    \n",
    "    if year == 2024:\n",
    "        sunpath = glob.glob(f'../DataBase/Data_CWA/sunset_time_keelung{year}.csv')[0]\n",
    "        df = pd.read_csv(sunpath)\n",
    "    else:\n",
    "        df = dsun\n",
    "    sunset_hr = int((df['SUNSET'][df['TIME'] == f'{year}/{month}/{day}'].values[0]).rsplit(':')[-2])    \n",
    "    sunset_min = int((df['SUNSET'][df['TIME'] == f'{year}/{month}/{day}'].values[0]).rsplit(':')[-1])\n",
    "    \n",
    "    if nextyear != year:\n",
    "        sunpath = glob.glob(f'../DataBase/Data_CWA/sunset_time_keelung{nextyear}.csv')[0]\n",
    "        df = pd.read_csv(sunpath)\n",
    "        \n",
    "    sunrise_hr = int((df['SUNRSET'][df['TIME'] == f'{nextyear}/{nextmonth}/{nextday}'].values[0]).rsplit(':')[-2])\n",
    "    sunrise_min = int((df['SUNRSET'][df['TIME'] == f'{nextyear}/{nextmonth}/{nextday}'].values[0]).rsplit(':')[-1])\n",
    "    \n",
    "    ax.fill_betweenx(y=[ymin-5, ymax], x1=datetime(year, month, day, sunset_hr, sunset_min), x2=datetime(nextyear, nextmonth, nextday, sunrise_hr, sunrise_min), color='orange', alpha=0.1)\n",
    "    return ax\n",
    "def plotlight(time, ax, excess=13000):\n",
    "    month = str(time.month).zfill(2)\n",
    "    day = str(time.day).zfill(2)\n",
    "    if lightpath is not None:\n",
    "        dlight = pd.read_excel(lightpath, header=None, names=['Time', 'Temp', 'Light'], skiprows=110,) \n",
    "        dlight = dlight[dlight['Light']<=excess]\n",
    "        dlight_ = dlight[dlight['Time'] <= np.datetime64(f'{year}-{month}-{day} 23:59:59')][dlight['Time'] >= np.datetime64(f'{year}-{month}-{day} 00:00:00')]\n",
    "        try:\n",
    "            begintime = pd.to_datetime(str(dlight_['Time'].values[0]))\n",
    "            endtime   = pd.to_datetime(str(dlight_['Time'].values[-1]))\n",
    "            ax.plot(pd.to_datetime(dlight_['Time']), dlight_['Light'], 'grey', lw=0.3)\n",
    "        except:\n",
    "            pass\n",
    "        # ax.set_ylabel('Illumination (lux)', color='grey', fontsize=10)\n",
    "        ax.tick_params(axis='y', colors='grey')\n",
    "        ax.set_yticklabels(labels=[])\n",
    "    return ax\n",
    "\n",
    "def plot_histlight(begin, end, excess=13000):\n",
    "    \n",
    "    beginyear = begin.year\n",
    "    beginmonth = str(begin.month).zfill(2)\n",
    "    beginday = str(begin.day).zfill(2)\n",
    "    endyear = end.year\n",
    "    endmonth = str(end.month).zfill(2)\n",
    "    endday = str(end.day).zfill(2)    \n",
    "    \n",
    "    dlight = pd.read_excel(lightpath, header=None, names=['Time', 'Temp', 'Light'], skiprows=110,) \n",
    "    dlight = dlight[dlight['Light']<=excess]\n",
    "    dlight_ = dlight[dlight['Time'] >= np.datetime64(f'{beginyear}-{beginmonth}-{beginday} 00:00:00')][dlight['Time'] <= np.datetime64(f'{endyear}-{endmonth}-{endday} 23:59:59')]\n",
    "    \n",
    "    index = defaultdict(list)\n",
    "    for i in range(0,24):\n",
    "        index[str(i)].append(np.nan)\n",
    "    for i in range(len(dlight_)):\n",
    "        time = pd.to_datetime(dlight_['Time'].values[i])\n",
    "        light = dlight_['Light'].values[i]\n",
    "        hr = time.hour\n",
    "        index[str(hr)].append(light)\n",
    "\n",
    "    mean = []\n",
    "    for key in index.keys():\n",
    "        mean.append(np.nanmean(index[key]))\n",
    "        \n",
    "    return index.keys(), mean"
   ]
  },
  {
   "cell_type": "code",
   "execution_count": 118,
   "id": "342f44cb-4d26-4c33-9113-4ca0654bb275",
   "metadata": {},
   "outputs": [
    {
     "name": "stdout",
     "output_type": "stream",
     "text": [
      "230830 7/15\n"
     ]
    }
   ],
   "source": [
    "alldf = pd.DataFrame()\n",
    "for filepath in sorted(glob.glob(f'{path}/*csv')):\n",
    "    date = re.split('[_|/|.]', filepath)[-2]\n",
    "    yy = date[:2]; mm = int(date[2:4]); dd = int(date[4:])\n",
    "    if yy == '23':\n",
    "        m_date = dtime['lunar'][dtime['national']==f'{mm}/{dd}'].values[0]\n",
    "    elif yy == '24':\n",
    "        timepath = f'../DataBase/Data_CWA/lunar_time_2024.csv'\n",
    "        dtime = pd.read_csv(timepath)\n",
    "        print('fffff')\n",
    "        m_date = dtime['lunar'][dtime['national']==f'{mm}/{dd}'].values[0]\n",
    "    m_mm = re.split('/',m_date)[0]; m_dd = re.split('/',m_date)[-1]\n",
    "    \n",
    "    if int(m_dd) in targer_time:\n",
    "        df = pd.read_csv(filepath)\n",
    "        alldf = pd.concat([alldf, df])\n",
    "    if int(m_dd) in [1, 15]:\n",
    "        align_mm = mm\n",
    "        align_day = dd\n",
    "        print(date, m_date)"
   ]
  },
  {
   "cell_type": "code",
   "execution_count": 119,
   "id": "82713519-bc73-43bd-881a-3c032565e5d3",
   "metadata": {},
   "outputs": [],
   "source": [
    "index = defaultdict(list)\n",
    "for i in range(0,24):\n",
    "    index[str(i)].append(np.nan)\n",
    "for i in range(len(alldf)):\n",
    "    time = pd.to_datetime(alldf['Time'].values[i])\n",
    "    peak = alldf['Peak'].values[i]\n",
    "    hr = time.hour\n",
    "\n",
    "    index[str(hr)].append(peak)\n",
    "\n",
    "mean = []\n",
    "for key in index.keys():\n",
    "    mean.append(np.nanmedian(index[key]))"
   ]
  },
  {
   "cell_type": "code",
   "execution_count": null,
   "id": "48ae15b4-519c-4482-aa84-fef95d61c14c",
   "metadata": {},
   "outputs": [],
   "source": []
  },
  {
   "cell_type": "code",
   "execution_count": 120,
   "id": "85431f62-479a-4eaf-8405-20e78035c34b",
   "metadata": {},
   "outputs": [
    {
     "data": {
      "text/plain": [
       "[Text(0, 0, '0'),\n",
       " Text(1, 0, ''),\n",
       " Text(2, 0, ''),\n",
       " Text(3, 0, ''),\n",
       " Text(4, 0, ''),\n",
       " Text(5, 0, ''),\n",
       " Text(6, 0, '6'),\n",
       " Text(7, 0, ''),\n",
       " Text(8, 0, ''),\n",
       " Text(9, 0, ''),\n",
       " Text(10, 0, ''),\n",
       " Text(11, 0, ''),\n",
       " Text(12, 0, '12'),\n",
       " Text(13, 0, ''),\n",
       " Text(14, 0, ''),\n",
       " Text(15, 0, ''),\n",
       " Text(16, 0, ''),\n",
       " Text(17, 0, ''),\n",
       " Text(18, 0, '18'),\n",
       " Text(19, 0, ''),\n",
       " Text(20, 0, ''),\n",
       " Text(21, 0, ''),\n",
       " Text(22, 0, ''),\n",
       " Text(23, 0, '24')]"
      ]
     },
     "execution_count": 120,
     "metadata": {},
     "output_type": "execute_result"
    },
    {
     "data": {
      "image/png": "[encoded data removed]",
      "text/plain": [
       "<Figure size 600x200 with 4 Axes>"
      ]
     },
     "metadata": {},
     "output_type": "display_data"
    }
   ],
   "source": [
    "fig, ax = plt.subplots(1, figsize=(6, 2))\n",
    "ax0 = ax.twinx()\n",
    "ymin=1000\n",
    "ymax=10500\n",
    "for ii in range(-4,4):\n",
    "    temp = datetime(year,align_mm,align_day)+timedelta(days=ii)\n",
    "    ax = plotnight(temp, ax, ymin, ymax)\n",
    "    gettime = temp\n",
    "    ax0 = plotlight(gettime, ax0)\n",
    "ax.scatter(pd.to_datetime(alldf['Time']), alldf['Peak'], c='k', marker='o', s=1 )\n",
    "ax.set_xlim(datetime(year,align_mm,align_day)-timedelta(days=2),datetime(year,align_mm,align_day)+timedelta(days=2))\n",
    "ax.set_ylim(ymin, ymax)\n",
    "ax.set_ylabel('Snap rate (min$^{-1}$)', fontsize=10)\n",
    "ax.set_xlabel('Time', fontsize=10)\n",
    "ax.xaxis.set_major_locator(mdates.DayLocator(interval=1))   #to get a tick every 15 minutes\n",
    "ax.xaxis.set_major_formatter(mdates.DateFormatter('%m/%d'))     #optional formatting \n",
    "ax.xaxis.set_minor_locator(mdates.HourLocator(interval=3))   #to get a tick every 15 minutes\n",
    "ax0.set_ylim(13500,-1000)\n",
    "# ax0.set_yscale('log')\n",
    "\n",
    "\n",
    "ax2 = fig.add_axes([1.02,0.1,0.2,0.78])\n",
    "ax3 = ax2.twinx()\n",
    "light_key, light_mean = plot_histlight(datetime(year,align_mm,align_day)-timedelta(days=3),datetime(year,align_mm,align_day)+timedelta(days=3))\n",
    "\n",
    "plot_time = index.keys() #list(index.keys())[12:]+list(index.keys())[0:12]\n",
    "plot_mean = (mean-min(mean))/ (max(mean)-min(mean)) #mean[12:]+mean[0:12] (mean-np.mean(mean)) / np.std(mean) #\n",
    "plot_light = light_mean #light_mean[12:]+light_mean[0:12]\n",
    "\n",
    "ax2.bar(plot_time, plot_mean, width=1, color='white', align='edge',  alpha=0.)\n",
    "ax2.fill_betweenx(x1='0', x2='6', y=[0,1], color='orange', lw=0.2, alpha=0.1)\n",
    "ax2.fill_betweenx(x1='18', x2='23', y=[0,1], color='orange', lw=0.2, alpha=0.1)\n",
    "ax2.bar(plot_time, plot_mean, width=1, color='k', align='edge')\n",
    "\n",
    "ax2.set_xlim(0, 23)\n",
    "ax2.set_ylim(0., 1)\n",
    "ax2.set_yticks([0, 0.25, 0.5, 0.75, 1])\n",
    "ax2.yaxis.set_ticklabels(labels=['0','','0.5','','1'])\n",
    "ax2.tick_params(axis='y', labelrotation=90, labelsize=9)\n",
    "ax2.set_xlabel('Hour', fontsize=10)\n",
    "ax2.set_ylabel('Relative snap rate', fontsize=10)\n",
    "\n",
    "ax3.plot(plot_time, plot_light, lw=1.5, color='grey')\n",
    "ax3.set_ylim(13500,-1000)\n",
    "ax3.set_ylabel('Illumination (lux)', color='grey', fontsize=10, rotation=270, labelpad=14)\n",
    "ax3.set_yticks([0, 5000, 10000])\n",
    "ax3.tick_params(axis='y', colors='grey', labelrotation=270, labelsize=9)\n",
    "ax2.xaxis.set_ticklabels(['0','','','','','','6','','','','','','12','','','','','','18','','','','','24'])\n",
    "# ax2.xaxis.set_ticklabels(['12','','','','','','18','','','','','','0','','','','','','6','','','','', '11'])\n",
    "\n",
    "\n",
    "# plt.vlines(x='6', ymin=ymin, ymax=ymax, ls='--', color='lightgrey', lw=1)\n",
    "# plt.grid(axis='x')\n"
   ]
  },
  {
   "cell_type": "code",
   "execution_count": null,
   "id": "fbb1d401-f279-48c0-a336-efeabde7074e",
   "metadata": {},
   "outputs": [],
   "source": []
  },
  {
   "cell_type": "code",
   "execution_count": null,
   "id": "a3d09f3a-3e70-4e41-8bc0-e4e6c94840a8",
   "metadata": {},
   "outputs": [],
   "source": []
  }
 ],
 "metadata": {
  "kernelspec": {
   "display_name": "Python 3 (ipykernel)",
   "language": "python",
   "name": "python3"
  },
  "language_info": {
   "codemirror_mode": {
    "name": "ipython",
    "version": 3
   },
   "file_extension": ".py",
   "mimetype": "text/x-python",
   "name": "python",
   "nbconvert_exporter": "python",
   "pygments_lexer": "ipython3",
   "version": "3.11.3"
  }
 },
 "nbformat": 4,
 "nbformat_minor": 5
}
