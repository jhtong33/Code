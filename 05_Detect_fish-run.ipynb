{
 "cells": [
  {
   "cell_type": "code",
   "execution_count": 3,
   "id": "a7a21870-868d-4852-bfb5-9130cff99ed8",
   "metadata": {},
   "outputs": [],
   "source": [
    "import obspy, glob\n",
    "import numpy as np\n",
    "from obspy import Trace, UTCDateTime, Stream\n",
    "from scipy.io.wavfile import read, write\n",
    "import matplotlib.pyplot as plt\n",
    "# import h5py\n",
    "import matplotlib.dates as mdates\n",
    "from matplotlib import cm\n",
    "from datetime import datetime, date, timedelta\n",
    "from scipy import signal\n",
    "import numpy.matlib\n",
    "from scipy.signal import hilbert\n",
    "import pandas as pd\n",
    "import warnings\n",
    "warnings.filterwarnings('ignore')"
   ]
  },
  {
   "cell_type": "code",
   "execution_count": null,
   "id": "1795f339-d961-4b1b-9679-aa62545f146d",
   "metadata": {},
   "outputs": [],
   "source": []
  },
  {
   "cell_type": "code",
   "execution_count": 4,
   "id": "b5f17a88-a59b-4882-a965-32ddd2cf5911",
   "metadata": {},
   "outputs": [],
   "source": [
    "path = '/Volumes/Data/Soundscape/03_TaoYuan/2023/20230608-20230623TaoYuan/wav/'\n",
    "\n",
    "S = -176.1 # end to end \n",
    "P_ref = 1 # water: 1 uPa\n",
    "interval = 1 # min"
   ]
  },
  {
   "cell_type": "code",
   "execution_count": 7,
   "id": "66e524fc-7e94-403e-835a-d54d20e3ba81",
   "metadata": {
    "tags": []
   },
   "outputs": [],
   "source": [
    "def calib(data, S):\n",
    "    audio_data = data.astype(np.float32, order='C') / 32768.0\n",
    "    calib_data = audio_data / ((10)**(S/20))\n",
    "    return calib_data # uPa\n",
    "\n",
    "def SPL(tr):\n",
    "    data = tr.data\n",
    "    P_ref = 1\n",
    "    dp = int(0.004*48000) # ms*rate \n",
    "    findpeak = [] \n",
    "    spl_p2p = []\n",
    "    cont_score = []\n",
    "    \n",
    "    from scipy.signal import find_peaks\n",
    "    peaks, _  = find_peaks(data, prominence=1, distance=96, wlen=96, height = 1.778279*10**6) ## SPLpp=125\n",
    "    for max_idx in peaks:\n",
    "        if max_idx>96:\n",
    "            data_ = data[max_idx-96 : max_idx+96]\n",
    "            p_peak = max(data_)+abs(min(data_))\n",
    "            P_spl = 20*np.log10(p_peak/P_ref)\n",
    "            \n",
    "            envelope = np.abs((hilbert(data_)))\n",
    "            k_data = smooth(envelope)\n",
    "            score = detection(k_data, envelope)\n",
    "            cont_score.append(score)\n",
    "            if score >= 0.8 and P_spl >= 125:   # 0.75\n",
    "                findpeak.append((max_idx))\n",
    "                spl_p2p.append(P_spl)\n",
    "#             if score >= 0.9:\n",
    "#                 plt.figure(figsize=(3,4))\n",
    "#                 plt.subplot(211)\n",
    "\n",
    "#                 # print(k_data)\n",
    "#                 plt.plot(np.linspace(0, 0.004, dp)*1000, k_data, 'b', lw=3)\n",
    "#                 plt.plot(np.linspace(0, 0.004, dp)*1000, envelope, 'r', lw=1)\n",
    "#                 plt.plot(np.linspace(0, 0.004, dp)*1000, data_ , 'k', lw=1)\n",
    "#                 plt.xlim(0, 4)\n",
    "#                 plt.ylabel('Amplitude (uPa)')\n",
    "                \n",
    "#                 plt.subplot(212)\n",
    "#                 f, t, spectro = spectrogram(data_)\n",
    "#                 plt.pcolormesh(t*1000, f, spectro, vmin=40, vmax=70, cmap=cm.jet)\n",
    "#                 plt.ylim(0, 4000)\n",
    "#                 plt.xlim(0,4)\n",
    "#                 plt.ylabel('Frequency (Hz)')\n",
    "#                 plt.xlabel('Time (ms)')  \n",
    "#                 plt.suptitle(f'{round(P_spl,2), round(score,2)}')\n",
    "                # print( P_spl,score,)\n",
    "            \n",
    "                       \n",
    "    return findpeak, peaks, cont_score, spl_p2p\n",
    "        \n",
    "            \n",
    "            \n",
    "def spectrogram(data, length=32):\n",
    "    f,t,P = signal.stft(data, fs=48000, window='hann', \n",
    "            nperseg=length, noverlap=int(0.9*length), detrend='constant', boundary=None, padded=False)\n",
    "    data = 10*np.log10(np.abs(P)/np.power(1, 2))\n",
    "\n",
    "    return f, t, data\n",
    "\n",
    "def smooth(x ):\n",
    "    from scipy.ndimage.filters import gaussian_filter1d\n",
    "    # filterdData = gaussian_filter1d(x, 3)\n",
    "    from scipy.signal import savgol_filter\n",
    "    filterdData = savgol_filter(x, 9, 5, mode='nearest')\n",
    "    # from scipy.signal import medfilt\n",
    "    # from scipy.ndimage import median_filter\n",
    "    # filterdData = medfilt(x, kernel_size=3)\n",
    "    filterdData[:20] = 0\n",
    "    filterdData[20:] = filterdData[20:]/2\n",
    "    filterdData = gaussian_filter1d(filterdData, 2)\n",
    "    # filterdData = median_filter(x, size=9, mode='constant')\n",
    "    \n",
    "    return filterdData\n",
    "def detection(kernel, envelope):\n",
    "    np_score = np.corrcoef(kernel, envelope)\n",
    "    score = np_score[0][1]\n",
    "    return score"
   ]
  },
  {
   "cell_type": "code",
   "execution_count": 15,
   "id": "abb2f69b-2bc7-4866-ad7d-6eff7d046b1e",
   "metadata": {
    "tags": []
   },
   "outputs": [
    {
     "name": "stdout",
     "output_type": "stream",
     "text": [
      "/Volumes/Data/Soundscape/03_TaoYuan/2023/20230608-20230623TaoYuan/wav/6979.230618000002.wav\n",
      "/Volumes/Data/Soundscape/03_TaoYuan/2023/20230608-20230623TaoYuan/wav/6979.230618010002.wav\n",
      "/Volumes/Data/Soundscape/03_TaoYuan/2023/20230608-20230623TaoYuan/wav/6979.230618020002.wav\n",
      "/Volumes/Data/Soundscape/03_TaoYuan/2023/20230608-20230623TaoYuan/wav/6979.230618030002.wav\n"
     ]
    },
    {
     "ename": "KeyboardInterrupt",
     "evalue": "",
     "output_type": "error",
     "traceback": [
      "\u001b[0;31m---------------------------------------------------------------------------\u001b[0m",
      "\u001b[0;31mKeyboardInterrupt\u001b[0m                         Traceback (most recent call last)",
      "Cell \u001b[0;32mIn[15], line 38\u001b[0m\n\u001b[1;32m     35\u001b[0m P_spl \u001b[38;5;241m=\u001b[39m \u001b[38;5;241m20\u001b[39m\u001b[38;5;241m*\u001b[39mnp\u001b[38;5;241m.\u001b[39mlog10(p_rms\u001b[38;5;241m/\u001b[39mP_ref)\n\u001b[1;32m     37\u001b[0m \u001b[38;5;28;01mfor\u001b[39;00m ss \u001b[38;5;129;01min\u001b[39;00m \u001b[38;5;28mrange\u001b[39m(\u001b[38;5;241m60\u001b[39m):\n\u001b[0;32m---> 38\u001b[0m     tr_cut \u001b[38;5;241m=\u001b[39m \u001b[43mtr_bp\u001b[49m\u001b[38;5;241;43m.\u001b[39;49m\u001b[43mcopy\u001b[49m\u001b[43m(\u001b[49m\u001b[43m)\u001b[49m\n\u001b[1;32m     39\u001b[0m     start \u001b[38;5;241m=\u001b[39m tr\u001b[38;5;241m.\u001b[39mstats\u001b[38;5;241m.\u001b[39mstarttime \u001b[38;5;241m+\u001b[39m mm\u001b[38;5;241m*\u001b[39m\u001b[38;5;241m60\u001b[39m \u001b[38;5;241m+\u001b[39m ss\n\u001b[1;32m     40\u001b[0m     end \u001b[38;5;241m=\u001b[39m start \u001b[38;5;241m+\u001b[39m \u001b[38;5;241m1\u001b[39m \n",
      "File \u001b[0;32m~/opt/anaconda3/envs/obspy/lib/python3.11/site-packages/obspy/core/trace.py:2294\u001b[0m, in \u001b[0;36mTrace.copy\u001b[0;34m(self)\u001b[0m\n\u001b[1;32m   2257\u001b[0m \u001b[38;5;28;01mdef\u001b[39;00m \u001b[38;5;21mcopy\u001b[39m(\u001b[38;5;28mself\u001b[39m):\n\u001b[1;32m   2258\u001b[0m \u001b[38;5;250m    \u001b[39m\u001b[38;5;124;03m\"\"\"\u001b[39;00m\n\u001b[1;32m   2259\u001b[0m \u001b[38;5;124;03m    Returns a deepcopy of the trace.\u001b[39;00m\n\u001b[1;32m   2260\u001b[0m \n\u001b[0;32m   (...)\u001b[0m\n\u001b[1;32m   2292\u001b[0m \u001b[38;5;124;03m    True\u001b[39;00m\n\u001b[1;32m   2293\u001b[0m \u001b[38;5;124;03m    \"\"\"\u001b[39;00m\n\u001b[0;32m-> 2294\u001b[0m     \u001b[38;5;28;01mreturn\u001b[39;00m \u001b[43mdeepcopy\u001b[49m\u001b[43m(\u001b[49m\u001b[38;5;28;43mself\u001b[39;49m\u001b[43m)\u001b[49m\n",
      "File \u001b[0;32m~/opt/anaconda3/envs/obspy/lib/python3.11/copy.py:172\u001b[0m, in \u001b[0;36mdeepcopy\u001b[0;34m(x, memo, _nil)\u001b[0m\n\u001b[1;32m    170\u001b[0m                 y \u001b[38;5;241m=\u001b[39m x\n\u001b[1;32m    171\u001b[0m             \u001b[38;5;28;01melse\u001b[39;00m:\n\u001b[0;32m--> 172\u001b[0m                 y \u001b[38;5;241m=\u001b[39m \u001b[43m_reconstruct\u001b[49m\u001b[43m(\u001b[49m\u001b[43mx\u001b[49m\u001b[43m,\u001b[49m\u001b[43m \u001b[49m\u001b[43mmemo\u001b[49m\u001b[43m,\u001b[49m\u001b[43m \u001b[49m\u001b[38;5;241;43m*\u001b[39;49m\u001b[43mrv\u001b[49m\u001b[43m)\u001b[49m\n\u001b[1;32m    174\u001b[0m \u001b[38;5;66;03m# If is its own copy, don't memoize.\u001b[39;00m\n\u001b[1;32m    175\u001b[0m \u001b[38;5;28;01mif\u001b[39;00m y \u001b[38;5;129;01mis\u001b[39;00m \u001b[38;5;129;01mnot\u001b[39;00m x:\n",
      "File \u001b[0;32m~/opt/anaconda3/envs/obspy/lib/python3.11/copy.py:271\u001b[0m, in \u001b[0;36m_reconstruct\u001b[0;34m(x, memo, func, args, state, listiter, dictiter, deepcopy)\u001b[0m\n\u001b[1;32m    269\u001b[0m \u001b[38;5;28;01mif\u001b[39;00m state \u001b[38;5;129;01mis\u001b[39;00m \u001b[38;5;129;01mnot\u001b[39;00m \u001b[38;5;28;01mNone\u001b[39;00m:\n\u001b[1;32m    270\u001b[0m     \u001b[38;5;28;01mif\u001b[39;00m deep:\n\u001b[0;32m--> 271\u001b[0m         state \u001b[38;5;241m=\u001b[39m \u001b[43mdeepcopy\u001b[49m\u001b[43m(\u001b[49m\u001b[43mstate\u001b[49m\u001b[43m,\u001b[49m\u001b[43m \u001b[49m\u001b[43mmemo\u001b[49m\u001b[43m)\u001b[49m\n\u001b[1;32m    272\u001b[0m     \u001b[38;5;28;01mif\u001b[39;00m \u001b[38;5;28mhasattr\u001b[39m(y, \u001b[38;5;124m'\u001b[39m\u001b[38;5;124m__setstate__\u001b[39m\u001b[38;5;124m'\u001b[39m):\n\u001b[1;32m    273\u001b[0m         y\u001b[38;5;241m.\u001b[39m__setstate__(state)\n",
      "File \u001b[0;32m~/opt/anaconda3/envs/obspy/lib/python3.11/copy.py:146\u001b[0m, in \u001b[0;36mdeepcopy\u001b[0;34m(x, memo, _nil)\u001b[0m\n\u001b[1;32m    144\u001b[0m copier \u001b[38;5;241m=\u001b[39m _deepcopy_dispatch\u001b[38;5;241m.\u001b[39mget(\u001b[38;5;28mcls\u001b[39m)\n\u001b[1;32m    145\u001b[0m \u001b[38;5;28;01mif\u001b[39;00m copier \u001b[38;5;129;01mis\u001b[39;00m \u001b[38;5;129;01mnot\u001b[39;00m \u001b[38;5;28;01mNone\u001b[39;00m:\n\u001b[0;32m--> 146\u001b[0m     y \u001b[38;5;241m=\u001b[39m \u001b[43mcopier\u001b[49m\u001b[43m(\u001b[49m\u001b[43mx\u001b[49m\u001b[43m,\u001b[49m\u001b[43m \u001b[49m\u001b[43mmemo\u001b[49m\u001b[43m)\u001b[49m\n\u001b[1;32m    147\u001b[0m \u001b[38;5;28;01melse\u001b[39;00m:\n\u001b[1;32m    148\u001b[0m     \u001b[38;5;28;01mif\u001b[39;00m \u001b[38;5;28missubclass\u001b[39m(\u001b[38;5;28mcls\u001b[39m, \u001b[38;5;28mtype\u001b[39m):\n",
      "File \u001b[0;32m~/opt/anaconda3/envs/obspy/lib/python3.11/copy.py:231\u001b[0m, in \u001b[0;36m_deepcopy_dict\u001b[0;34m(x, memo, deepcopy)\u001b[0m\n\u001b[1;32m    229\u001b[0m memo[\u001b[38;5;28mid\u001b[39m(x)] \u001b[38;5;241m=\u001b[39m y\n\u001b[1;32m    230\u001b[0m \u001b[38;5;28;01mfor\u001b[39;00m key, value \u001b[38;5;129;01min\u001b[39;00m x\u001b[38;5;241m.\u001b[39mitems():\n\u001b[0;32m--> 231\u001b[0m     y[deepcopy(key, memo)] \u001b[38;5;241m=\u001b[39m \u001b[43mdeepcopy\u001b[49m\u001b[43m(\u001b[49m\u001b[43mvalue\u001b[49m\u001b[43m,\u001b[49m\u001b[43m \u001b[49m\u001b[43mmemo\u001b[49m\u001b[43m)\u001b[49m\n\u001b[1;32m    232\u001b[0m \u001b[38;5;28;01mreturn\u001b[39;00m y\n",
      "File \u001b[0;32m~/opt/anaconda3/envs/obspy/lib/python3.11/copy.py:153\u001b[0m, in \u001b[0;36mdeepcopy\u001b[0;34m(x, memo, _nil)\u001b[0m\n\u001b[1;32m    151\u001b[0m copier \u001b[38;5;241m=\u001b[39m \u001b[38;5;28mgetattr\u001b[39m(x, \u001b[38;5;124m\"\u001b[39m\u001b[38;5;124m__deepcopy__\u001b[39m\u001b[38;5;124m\"\u001b[39m, \u001b[38;5;28;01mNone\u001b[39;00m)\n\u001b[1;32m    152\u001b[0m \u001b[38;5;28;01mif\u001b[39;00m copier \u001b[38;5;129;01mis\u001b[39;00m \u001b[38;5;129;01mnot\u001b[39;00m \u001b[38;5;28;01mNone\u001b[39;00m:\n\u001b[0;32m--> 153\u001b[0m     y \u001b[38;5;241m=\u001b[39m \u001b[43mcopier\u001b[49m\u001b[43m(\u001b[49m\u001b[43mmemo\u001b[49m\u001b[43m)\u001b[49m\n\u001b[1;32m    154\u001b[0m \u001b[38;5;28;01melse\u001b[39;00m:\n\u001b[1;32m    155\u001b[0m     reductor \u001b[38;5;241m=\u001b[39m dispatch_table\u001b[38;5;241m.\u001b[39mget(\u001b[38;5;28mcls\u001b[39m)\n",
      "\u001b[0;31mKeyboardInterrupt\u001b[0m: "
     ]
    }
   ],
   "source": [
    "df_min = {'Time':[],\n",
    "         'Peak': [],\n",
    "         'MaxSPL': [], \n",
    "         'SPLrms':[]}\n",
    "for file in glob.glob(f'{path}/????.230618*.wav'):\n",
    "    print(file)\n",
    "    rate, data_ = read(file) \n",
    "    data = calib(data_, S)\n",
    "    \n",
    "    filetime = file.rsplit('.')[1]\n",
    "    tr = Trace()\n",
    "    tr.data = data\n",
    "    tr.stats.sampling_rate = rate\n",
    "    if rate == 96000:\n",
    "        tr.decimate(2, no_filter=True)\n",
    "    \n",
    "    tr.stats.starttime = UTCDateTime(2023, int(filetime[2:4]), int(filetime[4:6]), int(filetime[6:8]), int(filetime[8:10]), int(filetime[10:]))\n",
    "    tr_bp = tr.copy()\n",
    "    tr_bp.filter('bandpass', freqmin=200, freqmax=4000, corners=6, zerophase=True)\n",
    "    \n",
    "    total_min = int(tr.stats.endtime - tr.stats.starttime)/60\n",
    "    \n",
    "    for mm in range(int(total_min)):\n",
    "        \n",
    "        df_sec = {'Time':[],\n",
    "                 'Peak': [],\n",
    "                 'MaxSPL': []}\n",
    "\n",
    "        tr_cut = tr_bp.copy()\n",
    "        start = tr.stats.starttime + mm*60 \n",
    "        end = start + 60\n",
    "        tr_cut = tr_cut.slice(starttime=start, endtime=end)\n",
    "\n",
    "        p_rms = np.sqrt(np.mean(tr_cut.data**2))\n",
    "        P_spl = 20*np.log10(p_rms/P_ref)\n",
    "\n",
    "        for ss in range(60):\n",
    "            tr_cut = tr_bp.copy()\n",
    "            start = tr.stats.starttime + mm*60 + ss\n",
    "            end = start + 1 \n",
    "            tr_cut = tr_cut.slice(starttime=start, endtime=end)\n",
    "\n",
    "            findpeak, all_peaks, all_score, SPL_p2p = SPL(tr_cut)\n",
    "\n",
    "            df_sec['Time'].append(tr_cut.stats.starttime)\n",
    "            df_sec['Peak'].append(len(findpeak))\n",
    "            df_sec['MaxSPL'].append(max(SPL_p2p) if len(findpeak) > 0 else np.nan)\n",
    "\n",
    "        tr_time = tr_cut.stats.starttime\n",
    "        df_min['Time'].append(datetime(tr_time.year, tr_time.month, tr_time.day, tr_time.hour, tr_time.minute))\n",
    "        df_min['Peak'].append(sum(df_sec['Peak']))\n",
    "        df_min['MaxSPL'].append(max(df_sec['MaxSPL']))\n",
    "        df_min['SPLrms'].append(P_spl)\n",
    "\n",
    "\n",
    "df_min = pd.DataFrame(df_min) \n",
    "    # if len(df_min)>0:\n",
    "    #     df_min.to_csv(f'qqq/Keelung/detect_23{month}{day}.csv', index=False)"
   ]
  },
  {
   "cell_type": "code",
   "execution_count": 19,
   "id": "37684c5a-95cf-4851-a0ce-fa7a3171e5a2",
   "metadata": {},
   "outputs": [],
   "source": [
    "qqq = pd.DataFrame(df_min)"
   ]
  },
  {
   "cell_type": "code",
   "execution_count": 20,
   "id": "4185ff13-5d47-4f72-9195-4208f91df1bd",
   "metadata": {},
   "outputs": [
    {
     "data": {
      "text/plain": [
       "<Axes: xlabel='Time'>"
      ]
     },
     "execution_count": 20,
     "metadata": {},
     "output_type": "execute_result"
    },
    {
     "data": {
      "image/png": "[encoded data removed]",
      "text/plain": [
       "<Figure size 640x480 with 1 Axes>"
      ]
     },
     "metadata": {},
     "output_type": "display_data"
    }
   ],
   "source": [
    "qqq.plot('Time', 'Peak')"
   ]
  },
  {
   "cell_type": "code",
   "execution_count": null,
   "id": "cfde2090-0f1f-43d4-8195-744248c9fba6",
   "metadata": {},
   "outputs": [],
   "source": []
  }
 ],
 "metadata": {
  "kernelspec": {
   "display_name": "Python 3 (ipykernel)",
   "language": "python",
   "name": "python3"
  },
  "language_info": {
   "codemirror_mode": {
    "name": "ipython",
    "version": 3
   },
   "file_extension": ".py",
   "mimetype": "text/x-python",
   "name": "python",
   "nbconvert_exporter": "python",
   "pygments_lexer": "ipython3",
   "version": "3.11.3"
  }
 },
 "nbformat": 4,
 "nbformat_minor": 5
}
