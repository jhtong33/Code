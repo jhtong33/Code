{
 "cells": [
  {
   "cell_type": "code",
   "execution_count": 113,
   "id": "22805fd5-2d3e-42f1-bf9a-a5c9dec89b61",
   "metadata": {
    "tags": []
   },
   "outputs": [],
   "source": [
    "import pandas as pd\n",
    "import glob, os, re\n",
    "import numpy as np\n",
    "import matplotlib.pyplot as plt\n",
    "from datetime import datetime, date, timedelta\n",
    "import matplotlib.dates as mdates\n",
    "from matplotlib import cm, ticker\n",
    "from scipy.signal import savgol_filter\n",
    "\n",
    "import warnings\n",
    "warnings.filterwarnings('ignore')"
   ]
  },
  {
   "cell_type": "code",
   "execution_count": 194,
   "id": "ea9020d0-c5b1-4cff-82ad-760f5e70a644",
   "metadata": {
    "tags": []
   },
   "outputs": [],
   "source": [
    "def read_temp(path, begintime, endtime, type='CWA'):\n",
    "    \n",
    "    def get_strtime(time):\n",
    "        yyyy = str(time.year)\n",
    "        mm   = str(time.month).zfill(2)\n",
    "        dd   = str(time.day).zfill(2)\n",
    "        hh   = str(time.hour).zfill(2)\n",
    "        return f'{yyyy}{mm}{dd}{hh}00'\n",
    "    \n",
    "    if type == 'CWA':\n",
    "        df = pd.read_csv(path, skiprows=9)\n",
    "        begin = get_strtime(begintime); end = get_strtime(endtime)\n",
    "        df_ = df[df['yyyymmddhhmi'] >= int(begin)][df['yyyymmddhhmi'] <= int(end)]\n",
    "        list = []\n",
    "        for i in range(len(df_)):\n",
    "            timestr = str(df_['yyyymmddhhmi'].values[i])\n",
    "            yyyy = int(timestr[:4])\n",
    "            mm  = int(timestr[4:6])\n",
    "            dd = int(timestr[6:8])\n",
    "            hh = int(timestr[8:10])\n",
    "            minn  = int(timestr[10:])\n",
    "            list.append(datetime(yyyy,mm,dd,hh,minn))\n",
    "        newdf = pd.DataFrame({'time':list,\n",
    "                              'temp':df_['T']} ) \n",
    "    elif type == 'hobo':\n",
    "        newdf = pd.read_excel(path, header=None, names=['time', 'temp', 'Light'], skiprows=110, skipfooter=100)\n",
    "        print(newdf)\n",
    "    return newdf\n",
    "\n",
    "def find_color_symbol(begintime):\n",
    "    year = begintime.year\n",
    "    month = begintime.month\n",
    "    if year == 2021:\n",
    "        c = 'blue'\n",
    "    elif year == 2022:\n",
    "        c = 'lightblue'\n",
    "    elif year == 2023:\n",
    "        c = 'purple'\n",
    "        \n",
    "    if month < 6:\n",
    "        m = 'o'\n",
    "    elif 6 <= month <9:\n",
    "        m = 's'\n",
    "    elif 9<=month < 11:\n",
    "        m = 'D'\n",
    "    else:\n",
    "        m = 'X'\n",
    "    return c, m "
   ]
  },
  {
   "cell_type": "markdown",
   "id": "1fdc49b7-1efe-48f6-9a8a-fecf33163557",
   "metadata": {},
   "source": [
    "### temperature"
   ]
  },
  {
   "cell_type": "code",
   "execution_count": 1,
   "id": "1225fb8f-6726-475d-958c-8e64a1c6fa18",
   "metadata": {
    "tags": []
   },
   "outputs": [
    {
     "ename": "NameError",
     "evalue": "name 'plt' is not defined",
     "output_type": "error",
     "traceback": [
      "\u001b[0;31m---------------------------------------------------------------------------\u001b[0m",
      "\u001b[0;31mNameError\u001b[0m                                 Traceback (most recent call last)",
      "Cell \u001b[0;32mIn[1], line 4\u001b[0m\n\u001b[1;32m      1\u001b[0m place \u001b[38;5;241m=\u001b[39m \u001b[38;5;124m'\u001b[39m\u001b[38;5;124mTaoyuan\u001b[39m\u001b[38;5;124m'\u001b[39m\n\u001b[1;32m      2\u001b[0m path \u001b[38;5;241m=\u001b[39m \u001b[38;5;124mf\u001b[39m\u001b[38;5;124m'\u001b[39m\u001b[38;5;124m/Volumes/home/Research/Detection_snap/\u001b[39m\u001b[38;5;132;01m{\u001b[39;00mplace\u001b[38;5;132;01m}\u001b[39;00m\u001b[38;5;124m'\u001b[39m\n\u001b[0;32m----> 4\u001b[0m fig, ax \u001b[38;5;241m=\u001b[39m \u001b[43mplt\u001b[49m\u001b[38;5;241m.\u001b[39msubplots(\u001b[38;5;241m1\u001b[39m, figsize\u001b[38;5;241m=\u001b[39m(\u001b[38;5;241m5\u001b[39m, \u001b[38;5;241m5\u001b[39m), sharex\u001b[38;5;241m=\u001b[39m\u001b[38;5;28;01mTrue\u001b[39;00m)\n\u001b[1;32m      5\u001b[0m plt\u001b[38;5;241m.\u001b[39mrcParams[\u001b[38;5;124m\"\u001b[39m\u001b[38;5;124mfont.family\u001b[39m\u001b[38;5;124m\"\u001b[39m] \u001b[38;5;241m=\u001b[39m  \u001b[38;5;124m\"\u001b[39m\u001b[38;5;124mHelvetica\u001b[39m\u001b[38;5;124m\"\u001b[39m  \n\u001b[1;32m      7\u001b[0m x \u001b[38;5;241m=\u001b[39m []; y \u001b[38;5;241m=\u001b[39m []\n",
      "\u001b[0;31mNameError\u001b[0m: name 'plt' is not defined"
     ]
    }
   ],
   "source": [
    "place = 'Taoyuan'\n",
    "path = f'/Volumes/home/Research/Detection_snap/{place}'\n",
    "\n",
    "fig, ax = plt.subplots(1, figsize=(5, 5), sharex=True)\n",
    "plt.rcParams[\"font.family\"] =  \"Helvetica\"  \n",
    "\n",
    "x = []; y = []\n",
    "for ii, dirpath in enumerate(sorted(glob.glob(f'{path}/??????-??????'))):\n",
    "    alldf = pd.DataFrame()\n",
    "    begin = re.split('[/|-]', dirpath)[-2]\n",
    "    end = re.split('[/|-]', dirpath)[-1]\n",
    "    begintime = datetime.strptime(begin, \"%y%m%d\"); endtime = datetime.strptime(end, \"%y%m%d\")\n",
    "    print(f'{begin}-{end}')\n",
    "    \n",
    "    for file in glob.glob(f'{dirpath}/*csv'):\n",
    "        df = pd.read_csv(file)\n",
    "        alldf = pd.concat([alldf, df])\n",
    "    Q1_peak = np.percentile(alldf['Peak'], 25)\n",
    "    median_peak = np.median(alldf['Peak'])\n",
    "    mean_peak = np.mean(alldf['Peak'])\n",
    "    Q3_peak = np.percentile(alldf['Peak'], 75)\n",
    "    \n",
    "    try:\n",
    "        temppath = glob.glob(f'../DataBase/Temperature/{place}/{begin[:4]}*.xlsx')[0]\n",
    "        newdf = read_temp(temppath, begintime, endtime ,type='hobo')\n",
    "    except:     \n",
    "        tempplace = '長潭里'  if place == 'Keelung' else '竹圍' \n",
    "        temppath = glob.glob(f'../DataBase/Data_CWA/{begintime.year}_*{tempplace}*_stemp.csv')[0]\n",
    "        newdf = read_temp(temppath, begintime, endtime ,type='CWA')\n",
    "        \n",
    "    Q3_temp = np.percentile(newdf['temp'], 75)\n",
    "    median_temp = np.nanmedian(newdf['temp'])\n",
    "    Q1_temp = np.percentile(newdf['temp'], 25)\n",
    "    mean_temp = np.nanmean(newdf['temp'])\n",
    "    x.append(median_temp), y.append(median_peak)\n",
    "    c, m = find_color_symbol(begintime)\n",
    "    \n",
    "    plt.vlines(x=median_temp,ymin=Q1_peak, ymax=Q3_peak, colors=c, lw=1  )\n",
    "    plt.hlines(y=median_peak,xmin=Q1_temp, xmax=Q3_temp, colors=c, lw=1  )\n",
    "    plt.scatter(median_temp,median_peak, color=c, marker=m)\n",
    "    \n",
    "    \n",
    "from sklearn.linear_model import LinearRegression\n",
    "model = LinearRegression()\n",
    "x = np.array(x).reshape(-1,1)\n",
    "model.fit(x,np.array(y))\n",
    "predict = model.predict(x)\n",
    "plt.plot(x, predict, 'r', lw =1)  \n",
    "r_squared = round(model.score(x, y),2)\n",
    "if place == 'Keelung':\n",
    "    xmin = 18; xmax=30\n",
    "    ymin = 2000; ymax = 14000\n",
    "\n",
    "else:\n",
    "    xmin = 20; xmax=31\n",
    "    ymin = 800; ymax = 5000\n",
    "\n",
    "plt.text(xmin+0.2, ymax-100, s=f'R$^2: ${r_squared}\\ncoeff: {round(model.coef_[0],1)}', ha='left', va='top') \n",
    "plt.xlim(xmin, xmax)\n",
    "plt.ylim(ymin, ymax)\n",
    "plt.ylim(ymin, ymax)\n",
    "\n",
    "plt.xlabel('Water Temperature (°C)', fontsize=12)\n",
    "plt.ylabel('Snap rate (min$^{-1}$)', fontsize=12)\n",
    "plt.title(place, fontsize=12)\n",
    "\n",
    "plt.savefig(f'../Results/Detection_snap/relationship/{place}_regression_snap_temp.png',dpi=200,bbox_inches='tight')\n",
    "plt.savefig(f'../Results/Detection_snap/relationship/{place}_regression_snap_temp.pdf',dpi=200,bbox_inches='tight')"
   ]
  },
  {
   "cell_type": "code",
   "execution_count": null,
   "id": "5e573aed-f984-4da6-945a-c8b02485c7ca",
   "metadata": {},
   "outputs": [],
   "source": []
  }
 ],
 "metadata": {
  "kernelspec": {
   "display_name": "Python 3 (ipykernel)",
   "language": "python",
   "name": "python3"
  },
  "language_info": {
   "codemirror_mode": {
    "name": "ipython",
    "version": 3
   },
   "file_extension": ".py",
   "mimetype": "text/x-python",
   "name": "python",
   "nbconvert_exporter": "python",
   "pygments_lexer": "ipython3",
   "version": "3.10.9"
  }
 },
 "nbformat": 4,
 "nbformat_minor": 5
}
